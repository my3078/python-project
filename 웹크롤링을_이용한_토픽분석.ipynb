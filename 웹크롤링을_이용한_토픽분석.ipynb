{
  "nbformat": 4,
  "nbformat_minor": 0,
  "metadata": {
    "colab": {
      "name": "웹크롤링을 이용한 토픽분석",
      "provenance": [],
      "collapsed_sections": []
    },
    "kernelspec": {
      "name": "python3",
      "display_name": "Python 3"
    },
    "language_info": {
      "name": "python"
    }
  },
  "cells": [
    {
      "cell_type": "markdown",
      "metadata": {
        "id": "TCfePLD3D3w3"
      },
      "source": [
        "# **0. 데이터 분석을 위한 라이브러리 설치**\n",
        "\n"
      ]
    },
    {
      "cell_type": "code",
      "metadata": {
        "id": "I3AodEK5e7bu"
      },
      "source": [
        "from urllib.request import urlopen\n",
        "from bs4 import BeautifulSoup as bs\n",
        "import pandas as pd\n",
        "import re\n",
        "import numpy as np"
      ],
      "execution_count": null,
      "outputs": []
    },
    {
      "cell_type": "code",
      "metadata": {
        "id": "Z46tyCxyROAu"
      },
      "source": [
        "!apt-get update -qq\n",
        "!apt-get install fonts-nanum* -qq\n",
        "\n",
        "import matplotlib as mpl\n",
        "import matplotlib.pyplot as plt\n",
        "import matplotlib.font_manager as fm\n",
        "\n",
        "fontpath = '/usr/share/fonts/truetype/nanum/NanumBarunGothic.ttf'\n",
        "font = fm.FontProperties(fname=fontpath, size=9)\n",
        "plt.rc('font', family='NanumBarunGothic') \n",
        "mpl.font_manager._rebuild()"
      ],
      "execution_count": null,
      "outputs": []
    },
    {
      "cell_type": "markdown",
      "metadata": {
        "id": "Zz2akcA4EI_Q"
      },
      "source": [
        "# **1. 웹크롤링을 통한 데이터 수집**"
      ]
    },
    {
      "cell_type": "markdown",
      "metadata": {
        "id": "0oQpgx2jEw-H"
      },
      "source": [
        "좋아하는 소설가 '한강'의 대표 소설의 소개말을 크롤링한다."
      ]
    },
    {
      "cell_type": "markdown",
      "metadata": {
        "id": "9DNBVonKFA6d"
      },
      "source": [
        "1.1. 소년이 온다"
      ]
    },
    {
      "cell_type": "markdown",
      "metadata": {
        "id": "emO13yaIyYUU"
      },
      "source": [
        "데이터가 있는 URL에서 div 태그 속 ID명 bookIntroContent에 있는 '책소개'를 찾은 후 boy라는 객체에 저장한다."
      ]
    },
    {
      "cell_type": "code",
      "metadata": {
        "id": "QjC1NkW9fGDv"
      },
      "source": [
        "html = urlopen('https://book.naver.com/bookdb/book_detail.naver?bid=16343976')"
      ],
      "execution_count": null,
      "outputs": []
    },
    {
      "cell_type": "code",
      "metadata": {
        "id": "wICkJH34fOJ7"
      },
      "source": [
        "soup = bs(html, \"html.parser\")"
      ],
      "execution_count": null,
      "outputs": []
    },
    {
      "cell_type": "code",
      "metadata": {
        "colab": {
          "base_uri": "https://localhost:8080/"
        },
        "id": "TBN-avCOfRSp",
        "outputId": "735fcb70-1ea1-4906-8a64-23290152c4a4"
      },
      "source": [
        "print(soup.find('div', {'id': 'bookIntroContent'}).get_text())"
      ],
      "execution_count": null,
      "outputs": [
        {
          "output_type": "stream",
          "name": "stdout",
          "text": [
            "섬세한 감수성과 치밀한 문장으로 인간 존재의 본질을 탐구해온 작가 한강의 여섯번째 장편소설 『소년이 온다』가 출간되었다. 1980년 광주의 5월을 다뤄 창비문학블로그 ‘창문’에 연재할 당시(2013년 11월~2014년 1월)부터 독자들의 이목을 끌었던 열다섯살 소년의 이야기는 ‘상처의 구조에 대한 투시와 천착의 서사’를 통해 한강만이 풀어낼 수 있는 방식으로 1980년 5월을 새롭게 조명한다.  한강은 무고한 영혼들의 말을 대신 전하는 듯한 진심 어린 문장들로 어느덧 그 시절을 잊고 무심하게 5.18 이후를 살고 있는 우리에게 묵직한 질문을 던지고, 여전히 5.18의 트라우마를 안고 힘겹게 살아가는 사람들을 위무한다. 『소년이 온다』는 광주민주화운동 당시 계엄군에 맞서 싸우던 중학생 동호를 비롯한 주변 인물들과 그후 남겨진 사람들의 고통받는 내면을 생생하게 그려내고, 당시의 처절한 장면들을 핍진하게 묘사하며 지금 “우리가 ‘붙들어야 할’ 역사적 기억이 무엇인지를 절실하게 환기하고 있다(백지연 평론가).”  “이 소설을 피해갈 수 없었”고, “이 소설을 통과하지 않고는 어디로도 갈 수 없다고 느꼈”다는 작가 스스로의 고백처럼 이 소설은 소설가 한강의 지금까지의 작품세계를 한단계 끌어올리는, “한강을 뛰어넘은 한강의 소설(신형철 평론가)”이라고 자신 있게 말할 수 있는 작품이다.       \n"
          ]
        }
      ]
    },
    {
      "cell_type": "code",
      "metadata": {
        "id": "yi22cL6-wrba"
      },
      "source": [
        "boy = soup.find('div', {'id': 'bookIntroContent'}).get_text()"
      ],
      "execution_count": null,
      "outputs": []
    },
    {
      "cell_type": "markdown",
      "metadata": {
        "id": "LpcPe0hSFLJL"
      },
      "source": [
        "1.2. 작별하지 않는다"
      ]
    },
    {
      "cell_type": "markdown",
      "metadata": {
        "id": "2EpOgY_7yriE"
      },
      "source": [
        "같은 방식으로 bye객체에 텍스트 데이터를 저장한다."
      ]
    },
    {
      "cell_type": "code",
      "metadata": {
        "id": "EEUlS5Tpfc8t"
      },
      "source": [
        "html = urlopen('https://book.naver.com/bookdb/book_detail.naver?bid=20883676')"
      ],
      "execution_count": null,
      "outputs": []
    },
    {
      "cell_type": "code",
      "metadata": {
        "id": "MCZkG2_wfzZF"
      },
      "source": [
        "soup = bs(html, \"html.parser\")"
      ],
      "execution_count": null,
      "outputs": []
    },
    {
      "cell_type": "code",
      "metadata": {
        "colab": {
          "base_uri": "https://localhost:8080/"
        },
        "id": "aUtoa7oVf0qC",
        "outputId": "b807d424-fc0f-4483-849c-a8d122422064"
      },
      "source": [
        "print(soup.find('div', {'id': 'bookIntroContent'}).get_text())"
      ],
      "execution_count": null,
      "outputs": [
        {
          "output_type": "stream",
          "name": "stdout",
          "text": [
            "무엇을 생각하면 견딜 수 있나.가슴에 활활 일어나는 불이 없다면.기어이 돌아가 껴안을 네가 없다면.이곳에 살았던 이들로부터, 이곳에 살아 있는 이들로부터꿈처럼 스며오는 지극한 사랑의 기억2016년 『채식주의자』로 인터내셔널 부커상을 수상하고 2018년 『흰』으로 같은 상 최종 후보에 오른 한강 작가의 5년 만의 신작 장편소설 『작별하지 않는다』가 출간되었다. 2019년 겨울부터 이듬해 봄까지 계간 『문학동네』에 전반부를 연재하면서부터 큰 관심을 모았고, 그뒤 일 년여에 걸쳐 후반부를 집필하고 또 전체를 공들여 다듬는 지난한 과정을 거쳐 완성되었다. 본래 「눈 한 송이가 녹는 동안」(2015년 황순원문학상 수상작), 「작별」(2018년 김유정문학상 수상작)을 잇는 ‘눈’ 3부작의 마지막 작품으로 구상되었으나 그 자체 완결된 작품의 형태로 엮이게 된바, 한강 작가의 문학적 궤적에서 『작별하지 않는다』가 지니는 각별한 의미를 짚어볼 수 있다. 이로써 『소년이 온다』(2014), 『흰』(2016), ‘눈’ 연작(2015, 2017) 등 근작들을 통해 어둠 속에서도 한줄기 빛을 향해 나아가는 인간의 고투와 존엄을 그려온 한강 문학이 다다른 눈부신 현재를 또렷한 모습으로 확인할 수 있게 되었다. 오래지 않은 비극적 역사의 기억으로부터 길어올린, 그럼에도 인간을 끝내 인간이게 하는 간절하고 지극한 사랑의 이야기가 눈이 시리도록 선연한 이미지와 유려하고 시적인 문장에 실려 압도적인 아름다움으로 다가온다.\n"
          ]
        }
      ]
    },
    {
      "cell_type": "code",
      "metadata": {
        "id": "ppv9ggm_w0ag"
      },
      "source": [
        "bye = soup.find('div', {'id': 'bookIntroContent'}).get_text()"
      ],
      "execution_count": null,
      "outputs": []
    },
    {
      "cell_type": "markdown",
      "metadata": {
        "id": "TPxuM-M2FSsm"
      },
      "source": [
        "1.3. 채식주의자"
      ]
    },
    {
      "cell_type": "code",
      "metadata": {
        "id": "pFDNBhSGkGGN"
      },
      "source": [
        "html = urlopen('https://book.naver.com/bookdb/book_detail.naver?bid=3309417')"
      ],
      "execution_count": null,
      "outputs": []
    },
    {
      "cell_type": "code",
      "metadata": {
        "id": "OgDBXt7HkZQa"
      },
      "source": [
        "soup = bs(html, \"html.parser\")"
      ],
      "execution_count": null,
      "outputs": []
    },
    {
      "cell_type": "code",
      "metadata": {
        "colab": {
          "base_uri": "https://localhost:8080/"
        },
        "id": "5flZPJRckKyZ",
        "outputId": "34e5fc4b-ec4c-43b2-f505-29f97ead81f7"
      },
      "source": [
        "print(soup.find('div', {'id': 'bookIntroContent'}).get_text())"
      ],
      "execution_count": null,
      "outputs": [
        {
          "output_type": "stream",
          "name": "stdout",
          "text": [
            "10년전의 이른 봄, 작가는 한 여자가 베란다에서 식물이 되고, 함께 살던 남자는 그녀를 화분에 심는 이야기 『내 여자의 열매』를 집필하였다. 언젠가 그 변주를 쓰고 싶다는 생각에서 출발하게 된 것이 바로 이 연작소설 『채식주의자』이다. 표제작인 『채식주의자』, 2005년 이상문학상 수상작 『몽고반점』, 그리고 『나무 불꽃』으로 구성된 소설이다. 작가가 2002년부터 2005년 여름까지 쓴 이 세편의 중편소설은 따로 있을 때는 일견 저마다의 이야기를 하고 있는 것 같지만, 합해지면 작가가 정말 하고 싶었던 이야기가 담기는 장편소설이 된다.\r 올해로 등단 13년째를 맞는 작가는 작품 속에 단아하고 시심어린 문체와 밀도있는 구성력이라는 작가 특유의 개성을 고스란히 반영시켜 놓았다. 표제작인 『채식주의자』는 지금까지 소설가 한강이 발표해온 작품에 등장하였던 욕망,식물성,죽음 등 인간 본연의 문제들을 한 편에 집약해 놓은 수작이라고 평가받는다.\r 『채식주의자』는 육식을 거부하는 영혜를 바라보는 그의 남편 '나'의 이야기이다. '영혜'는 작가가 10년전에 발표한 단편 『내 여자의 열매』에서 선보였던 식물적 상상력을 극대화한 인물이다. 희망없는 삶을 체념하며 하루하루 베란다의 '나무'로 변해가던 단편 속의 주인공과 어린 시절 각인된 기억 때문에 철저히 육식을 거부한 채로 '나무'가 되길 꿈꾸는 영혜는 연관고리를 갖고 있다.\r 이 외에도 욕망과 예술혼의 승화를 절묘하게 결합시킨 작품으로 평가받으며 이상문학상을 수상하였던 2부 『몽고반점』은 연작소설 『채식주의자』의 전체 줄거리에 연결되면서 소설의 텍스트를 더욱 확장시킨다. 상처입은 영혼의 고통을 식물적인 상상력에 결합시켜 아름다움의 미학에 접근하고 있다.\n"
          ]
        }
      ]
    },
    {
      "cell_type": "code",
      "metadata": {
        "id": "dfYRE0T2w5dh"
      },
      "source": [
        "vege = soup.find('div', {'id': 'bookIntroContent'}).get_text()"
      ],
      "execution_count": null,
      "outputs": []
    },
    {
      "cell_type": "markdown",
      "metadata": {
        "id": "LG68XxfrFV3g"
      },
      "source": [
        "1.4. 흰"
      ]
    },
    {
      "cell_type": "code",
      "metadata": {
        "id": "TefcOteYDHnZ"
      },
      "source": [
        "html = urlopen('https://book.naver.com/bookdb/book_detail.naver?bid=13552961')"
      ],
      "execution_count": null,
      "outputs": []
    },
    {
      "cell_type": "code",
      "metadata": {
        "id": "FLIHR6x8DMG_"
      },
      "source": [
        "soup = bs(html, \"html.parser\")"
      ],
      "execution_count": null,
      "outputs": []
    },
    {
      "cell_type": "code",
      "metadata": {
        "colab": {
          "base_uri": "https://localhost:8080/"
        },
        "id": "LCsTp9QVDQ7L",
        "outputId": "1bbec168-7162-4794-9882-3268b1c871db"
      },
      "source": [
        "print(soup.find('div', {'id': 'bookIntroContent'}).get_text())"
      ],
      "execution_count": null,
      "outputs": [
        {
          "output_type": "stream",
          "name": "stdout",
          "text": [
            "결코 더럽혀지지 않는, 절대로 더럽혀질 수가 없는 어떤 흰 것에 관한 이야기!한국인 최초 맨부커상 수상 작가 한강의 소설 『흰』. 2018년 맨부커 인터네셔널 부문 최종후보작으로 선정된 이 작품은, 2013년 겨울에 기획해 2014년에 완성된 초고를 바탕으로 글의 매무새를 닳도록 만지고 또 어루만져서 2016년 5월에 처음 펴냈던 책이다. 삶과 죽음이라는 경계를 무력하게 만드는 이 소설은 한 권의 시집으로 읽힘에 손색이 없는 65편의 이야기로 구성되어 있다. 강보, 배내옷, 각설탕, 입김, 달, 쌀, 파도, 백지, 백발, 수의…. 작가로부터 불려나온 흰 것의 목록은 총 65개의 이야기로 파생되어 ‘나’와 ‘그녀’와 ‘모든 흰’이라는 세 개의 장 아래 담겨 있다. 한 권의 소설이지만 각 소제목, 흰 것의 목록들 아래 각각의 이야기들이 그 자체로 밀도 있는 완성도를 자랑한다. ‘나’에게는 죽은 어머니가 스물세 살에 낳았다 태어난 지 두 시간 만에 죽었다는 ‘언니’의 사연이 있다. 나는 지구의 반대편의 오래된 한 도시로 옮겨온 뒤에도 자꾸만 떠오르는 오래된 기억들에 사로잡힌다. 나에게서 비롯된 이야기는 ‘그녀’에게로 시선을 옮겨간다. 나는 그녀가 나대신 이곳으로 왔다고 생각하고, 그런 그녀를 통해 세상의 흰 것들을 다시금 만나기에 이른다.\n"
          ]
        }
      ]
    },
    {
      "cell_type": "code",
      "metadata": {
        "id": "DkKePZLyDUhI"
      },
      "source": [
        "white = soup.find('div', {'id': 'bookIntroContent'}).get_text()"
      ],
      "execution_count": null,
      "outputs": []
    },
    {
      "cell_type": "markdown",
      "metadata": {
        "id": "qeBpbKQvy0YC"
      },
      "source": [
        "1.5. 리스트로 만들기"
      ]
    },
    {
      "cell_type": "markdown",
      "metadata": {
        "id": "DJE34I21y4kn"
      },
      "source": [
        "문자열 형태인 데이터를 텍스트 분석을 위해 리스트로 만들어준다. split()로 문장마다 나눈다."
      ]
    },
    {
      "cell_type": "code",
      "metadata": {
        "id": "tusEJLOe8TdR"
      },
      "source": [
        "boy = boy.split(\". \")"
      ],
      "execution_count": null,
      "outputs": []
    },
    {
      "cell_type": "code",
      "metadata": {
        "colab": {
          "base_uri": "https://localhost:8080/"
        },
        "id": "eBmGyj5y8YKm",
        "outputId": "b6017a50-0db0-420d-82bd-3a14876790a1"
      },
      "source": [
        "boy"
      ],
      "execution_count": null,
      "outputs": [
        {
          "output_type": "execute_result",
          "data": {
            "text/plain": [
              "['섬세한 감수성과 치밀한 문장으로 인간 존재의 본질을 탐구해온 작가 한강의 여섯번째 장편소설 『소년이 온다』가 출간되었다',\n",
              " '1980년 광주의 5월을 다뤄 창비문학블로그 ‘창문’에 연재할 당시(2013년 11월~2014년 1월)부터 독자들의 이목을 끌었던 열다섯살 소년의 이야기는 ‘상처의 구조에 대한 투시와 천착의 서사’를 통해 한강만이 풀어낼 수 있는 방식으로 1980년 5월을 새롭게 조명한다',\n",
              " ' 한강은 무고한 영혼들의 말을 대신 전하는 듯한 진심 어린 문장들로 어느덧 그 시절을 잊고 무심하게 5.18 이후를 살고 있는 우리에게 묵직한 질문을 던지고, 여전히 5.18의 트라우마를 안고 힘겹게 살아가는 사람들을 위무한다',\n",
              " '『소년이 온다』는 광주민주화운동 당시 계엄군에 맞서 싸우던 중학생 동호를 비롯한 주변 인물들과 그후 남겨진 사람들의 고통받는 내면을 생생하게 그려내고, 당시의 처절한 장면들을 핍진하게 묘사하며 지금 “우리가 ‘붙들어야 할’ 역사적 기억이 무엇인지를 절실하게 환기하고 있다(백지연 평론가).”  “이 소설을 피해갈 수 없었”고, “이 소설을 통과하지 않고는 어디로도 갈 수 없다고 느꼈”다는 작가 스스로의 고백처럼 이 소설은 소설가 한강의 지금까지의 작품세계를 한단계 끌어올리는, “한강을 뛰어넘은 한강의 소설(신형철 평론가)”이라고 자신 있게 말할 수 있는 작품이다',\n",
              " '      ']"
            ]
          },
          "metadata": {},
          "execution_count": 128
        }
      ]
    },
    {
      "cell_type": "code",
      "metadata": {
        "colab": {
          "base_uri": "https://localhost:8080/"
        },
        "id": "CJMO8vxCfWrV",
        "outputId": "dbc3c529-53a0-4788-a411-a2e31a729664"
      },
      "source": [
        "type(boy)"
      ],
      "execution_count": null,
      "outputs": [
        {
          "output_type": "execute_result",
          "data": {
            "text/plain": [
              "list"
            ]
          },
          "metadata": {},
          "execution_count": 129
        }
      ]
    },
    {
      "cell_type": "code",
      "metadata": {
        "id": "m98ghS328cx7"
      },
      "source": [
        "bye = bye.split(\". \")"
      ],
      "execution_count": null,
      "outputs": []
    },
    {
      "cell_type": "code",
      "metadata": {
        "colab": {
          "base_uri": "https://localhost:8080/"
        },
        "id": "yvBudexOFvIP",
        "outputId": "b7340863-4179-43f6-a3cc-b4369669b7b3"
      },
      "source": [
        "bye"
      ],
      "execution_count": null,
      "outputs": [
        {
          "output_type": "execute_result",
          "data": {
            "text/plain": [
              "['무엇을 생각하면 견딜 수 있나.가슴에 활활 일어나는 불이 없다면.기어이 돌아가 껴안을 네가 없다면.이곳에 살았던 이들로부터, 이곳에 살아 있는 이들로부터꿈처럼 스며오는 지극한 사랑의 기억2016년 『채식주의자』로 인터내셔널 부커상을 수상하고 2018년 『흰』으로 같은 상 최종 후보에 오른 한강 작가의 5년 만의 신작 장편소설 『작별하지 않는다』가 출간되었다',\n",
              " '2019년 겨울부터 이듬해 봄까지 계간 『문학동네』에 전반부를 연재하면서부터 큰 관심을 모았고, 그뒤 일 년여에 걸쳐 후반부를 집필하고 또 전체를 공들여 다듬는 지난한 과정을 거쳐 완성되었다',\n",
              " '본래 「눈 한 송이가 녹는 동안」(2015년 황순원문학상 수상작), 「작별」(2018년 김유정문학상 수상작)을 잇는 ‘눈’ 3부작의 마지막 작품으로 구상되었으나 그 자체 완결된 작품의 형태로 엮이게 된바, 한강 작가의 문학적 궤적에서 『작별하지 않는다』가 지니는 각별한 의미를 짚어볼 수 있다',\n",
              " '이로써 『소년이 온다』(2014), 『흰』(2016), ‘눈’ 연작(2015, 2017) 등 근작들을 통해 어둠 속에서도 한줄기 빛을 향해 나아가는 인간의 고투와 존엄을 그려온 한강 문학이 다다른 눈부신 현재를 또렷한 모습으로 확인할 수 있게 되었다',\n",
              " '오래지 않은 비극적 역사의 기억으로부터 길어올린, 그럼에도 인간을 끝내 인간이게 하는 간절하고 지극한 사랑의 이야기가 눈이 시리도록 선연한 이미지와 유려하고 시적인 문장에 실려 압도적인 아름다움으로 다가온다.']"
            ]
          },
          "metadata": {},
          "execution_count": 131
        }
      ]
    },
    {
      "cell_type": "code",
      "metadata": {
        "id": "rR_mQZVW8f6b"
      },
      "source": [
        "vege = vege.split(\". \")"
      ],
      "execution_count": null,
      "outputs": []
    },
    {
      "cell_type": "code",
      "metadata": {
        "colab": {
          "base_uri": "https://localhost:8080/"
        },
        "id": "_uSt0LoLFwtP",
        "outputId": "3c9f0a1f-591a-47aa-af54-b76dc15bc554"
      },
      "source": [
        "vege"
      ],
      "execution_count": null,
      "outputs": [
        {
          "output_type": "execute_result",
          "data": {
            "text/plain": [
              "['10년전의 이른 봄, 작가는 한 여자가 베란다에서 식물이 되고, 함께 살던 남자는 그녀를 화분에 심는 이야기 『내 여자의 열매』를 집필하였다',\n",
              " '언젠가 그 변주를 쓰고 싶다는 생각에서 출발하게 된 것이 바로 이 연작소설 『채식주의자』이다',\n",
              " '표제작인 『채식주의자』, 2005년 이상문학상 수상작 『몽고반점』, 그리고 『나무 불꽃』으로 구성된 소설이다',\n",
              " '작가가 2002년부터 2005년 여름까지 쓴 이 세편의 중편소설은 따로 있을 때는 일견 저마다의 이야기를 하고 있는 것 같지만, 합해지면 작가가 정말 하고 싶었던 이야기가 담기는 장편소설이 된다.\\r 올해로 등단 13년째를 맞는 작가는 작품 속에 단아하고 시심어린 문체와 밀도있는 구성력이라는 작가 특유의 개성을 고스란히 반영시켜 놓았다',\n",
              " \"표제작인 『채식주의자』는 지금까지 소설가 한강이 발표해온 작품에 등장하였던 욕망,식물성,죽음 등 인간 본연의 문제들을 한 편에 집약해 놓은 수작이라고 평가받는다.\\r 『채식주의자』는 육식을 거부하는 영혜를 바라보는 그의 남편 '나'의 이야기이다\",\n",
              " \"'영혜'는 작가가 10년전에 발표한 단편 『내 여자의 열매』에서 선보였던 식물적 상상력을 극대화한 인물이다\",\n",
              " \"희망없는 삶을 체념하며 하루하루 베란다의 '나무'로 변해가던 단편 속의 주인공과 어린 시절 각인된 기억 때문에 철저히 육식을 거부한 채로 '나무'가 되길 꿈꾸는 영혜는 연관고리를 갖고 있다.\\r 이 외에도 욕망과 예술혼의 승화를 절묘하게 결합시킨 작품으로 평가받으며 이상문학상을 수상하였던 2부 『몽고반점』은 연작소설 『채식주의자』의 전체 줄거리에 연결되면서 소설의 텍스트를 더욱 확장시킨다\",\n",
              " '상처입은 영혼의 고통을 식물적인 상상력에 결합시켜 아름다움의 미학에 접근하고 있다.']"
            ]
          },
          "metadata": {},
          "execution_count": 133
        }
      ]
    },
    {
      "cell_type": "code",
      "metadata": {
        "id": "8SHCP_LLFmjz"
      },
      "source": [
        "white = white.split(\". \")"
      ],
      "execution_count": null,
      "outputs": []
    },
    {
      "cell_type": "code",
      "metadata": {
        "colab": {
          "base_uri": "https://localhost:8080/"
        },
        "id": "5CHDTumDFq2q",
        "outputId": "d4f06914-4d80-46f2-8d69-1c9803502c2d"
      },
      "source": [
        "white"
      ],
      "execution_count": null,
      "outputs": [
        {
          "output_type": "execute_result",
          "data": {
            "text/plain": [
              "['결코 더럽혀지지 않는, 절대로 더럽혀질 수가 없는 어떤 흰 것에 관한 이야기!한국인 최초 맨부커상 수상 작가 한강의 소설 『흰』',\n",
              " '2018년 맨부커 인터네셔널 부문 최종후보작으로 선정된 이 작품은, 2013년 겨울에 기획해 2014년에 완성된 초고를 바탕으로 글의 매무새를 닳도록 만지고 또 어루만져서 2016년 5월에 처음 펴냈던 책이다',\n",
              " '삶과 죽음이라는 경계를 무력하게 만드는 이 소설은 한 권의 시집으로 읽힘에 손색이 없는 65편의 이야기로 구성되어 있다',\n",
              " '강보, 배내옷, 각설탕, 입김, 달, 쌀, 파도, 백지, 백발, 수의…',\n",
              " '작가로부터 불려나온 흰 것의 목록은 총 65개의 이야기로 파생되어 ‘나’와 ‘그녀’와 ‘모든 흰’이라는 세 개의 장 아래 담겨 있다',\n",
              " '한 권의 소설이지만 각 소제목, 흰 것의 목록들 아래 각각의 이야기들이 그 자체로 밀도 있는 완성도를 자랑한다',\n",
              " '‘나’에게는 죽은 어머니가 스물세 살에 낳았다 태어난 지 두 시간 만에 죽었다는 ‘언니’의 사연이 있다',\n",
              " '나는 지구의 반대편의 오래된 한 도시로 옮겨온 뒤에도 자꾸만 떠오르는 오래된 기억들에 사로잡힌다',\n",
              " '나에게서 비롯된 이야기는 ‘그녀’에게로 시선을 옮겨간다',\n",
              " '나는 그녀가 나대신 이곳으로 왔다고 생각하고, 그런 그녀를 통해 세상의 흰 것들을 다시금 만나기에 이른다.']"
            ]
          },
          "metadata": {},
          "execution_count": 135
        }
      ]
    },
    {
      "cell_type": "markdown",
      "metadata": {
        "id": "qoTHIJoiF0Zz"
      },
      "source": [
        "docs라는 리스트에 리스트화된 텍스트를 넣어서 하나의 리스트로 만들어준다."
      ]
    },
    {
      "cell_type": "code",
      "metadata": {
        "id": "Sy1v02jKxC46"
      },
      "source": [
        "docs = []\n",
        "docs = [boy] + [bye] + [vege] + [white]"
      ],
      "execution_count": null,
      "outputs": []
    },
    {
      "cell_type": "code",
      "metadata": {
        "colab": {
          "base_uri": "https://localhost:8080/"
        },
        "id": "68L6LcZc8tLZ",
        "outputId": "59af80e3-a429-4b12-cc14-6510481e8fb6"
      },
      "source": [
        "docs"
      ],
      "execution_count": null,
      "outputs": [
        {
          "output_type": "execute_result",
          "data": {
            "text/plain": [
              "[['섬세한 감수성과 치밀한 문장으로 인간 존재의 본질을 탐구해온 작가 한강의 여섯번째 장편소설 『소년이 온다』가 출간되었다',\n",
              "  '1980년 광주의 5월을 다뤄 창비문학블로그 ‘창문’에 연재할 당시(2013년 11월~2014년 1월)부터 독자들의 이목을 끌었던 열다섯살 소년의 이야기는 ‘상처의 구조에 대한 투시와 천착의 서사’를 통해 한강만이 풀어낼 수 있는 방식으로 1980년 5월을 새롭게 조명한다',\n",
              "  ' 한강은 무고한 영혼들의 말을 대신 전하는 듯한 진심 어린 문장들로 어느덧 그 시절을 잊고 무심하게 5.18 이후를 살고 있는 우리에게 묵직한 질문을 던지고, 여전히 5.18의 트라우마를 안고 힘겹게 살아가는 사람들을 위무한다',\n",
              "  '『소년이 온다』는 광주민주화운동 당시 계엄군에 맞서 싸우던 중학생 동호를 비롯한 주변 인물들과 그후 남겨진 사람들의 고통받는 내면을 생생하게 그려내고, 당시의 처절한 장면들을 핍진하게 묘사하며 지금 “우리가 ‘붙들어야 할’ 역사적 기억이 무엇인지를 절실하게 환기하고 있다(백지연 평론가).”  “이 소설을 피해갈 수 없었”고, “이 소설을 통과하지 않고는 어디로도 갈 수 없다고 느꼈”다는 작가 스스로의 고백처럼 이 소설은 소설가 한강의 지금까지의 작품세계를 한단계 끌어올리는, “한강을 뛰어넘은 한강의 소설(신형철 평론가)”이라고 자신 있게 말할 수 있는 작품이다',\n",
              "  '      '],\n",
              " ['무엇을 생각하면 견딜 수 있나.가슴에 활활 일어나는 불이 없다면.기어이 돌아가 껴안을 네가 없다면.이곳에 살았던 이들로부터, 이곳에 살아 있는 이들로부터꿈처럼 스며오는 지극한 사랑의 기억2016년 『채식주의자』로 인터내셔널 부커상을 수상하고 2018년 『흰』으로 같은 상 최종 후보에 오른 한강 작가의 5년 만의 신작 장편소설 『작별하지 않는다』가 출간되었다',\n",
              "  '2019년 겨울부터 이듬해 봄까지 계간 『문학동네』에 전반부를 연재하면서부터 큰 관심을 모았고, 그뒤 일 년여에 걸쳐 후반부를 집필하고 또 전체를 공들여 다듬는 지난한 과정을 거쳐 완성되었다',\n",
              "  '본래 「눈 한 송이가 녹는 동안」(2015년 황순원문학상 수상작), 「작별」(2018년 김유정문학상 수상작)을 잇는 ‘눈’ 3부작의 마지막 작품으로 구상되었으나 그 자체 완결된 작품의 형태로 엮이게 된바, 한강 작가의 문학적 궤적에서 『작별하지 않는다』가 지니는 각별한 의미를 짚어볼 수 있다',\n",
              "  '이로써 『소년이 온다』(2014), 『흰』(2016), ‘눈’ 연작(2015, 2017) 등 근작들을 통해 어둠 속에서도 한줄기 빛을 향해 나아가는 인간의 고투와 존엄을 그려온 한강 문학이 다다른 눈부신 현재를 또렷한 모습으로 확인할 수 있게 되었다',\n",
              "  '오래지 않은 비극적 역사의 기억으로부터 길어올린, 그럼에도 인간을 끝내 인간이게 하는 간절하고 지극한 사랑의 이야기가 눈이 시리도록 선연한 이미지와 유려하고 시적인 문장에 실려 압도적인 아름다움으로 다가온다.'],\n",
              " ['10년전의 이른 봄, 작가는 한 여자가 베란다에서 식물이 되고, 함께 살던 남자는 그녀를 화분에 심는 이야기 『내 여자의 열매』를 집필하였다',\n",
              "  '언젠가 그 변주를 쓰고 싶다는 생각에서 출발하게 된 것이 바로 이 연작소설 『채식주의자』이다',\n",
              "  '표제작인 『채식주의자』, 2005년 이상문학상 수상작 『몽고반점』, 그리고 『나무 불꽃』으로 구성된 소설이다',\n",
              "  '작가가 2002년부터 2005년 여름까지 쓴 이 세편의 중편소설은 따로 있을 때는 일견 저마다의 이야기를 하고 있는 것 같지만, 합해지면 작가가 정말 하고 싶었던 이야기가 담기는 장편소설이 된다.\\r 올해로 등단 13년째를 맞는 작가는 작품 속에 단아하고 시심어린 문체와 밀도있는 구성력이라는 작가 특유의 개성을 고스란히 반영시켜 놓았다',\n",
              "  \"표제작인 『채식주의자』는 지금까지 소설가 한강이 발표해온 작품에 등장하였던 욕망,식물성,죽음 등 인간 본연의 문제들을 한 편에 집약해 놓은 수작이라고 평가받는다.\\r 『채식주의자』는 육식을 거부하는 영혜를 바라보는 그의 남편 '나'의 이야기이다\",\n",
              "  \"'영혜'는 작가가 10년전에 발표한 단편 『내 여자의 열매』에서 선보였던 식물적 상상력을 극대화한 인물이다\",\n",
              "  \"희망없는 삶을 체념하며 하루하루 베란다의 '나무'로 변해가던 단편 속의 주인공과 어린 시절 각인된 기억 때문에 철저히 육식을 거부한 채로 '나무'가 되길 꿈꾸는 영혜는 연관고리를 갖고 있다.\\r 이 외에도 욕망과 예술혼의 승화를 절묘하게 결합시킨 작품으로 평가받으며 이상문학상을 수상하였던 2부 『몽고반점』은 연작소설 『채식주의자』의 전체 줄거리에 연결되면서 소설의 텍스트를 더욱 확장시킨다\",\n",
              "  '상처입은 영혼의 고통을 식물적인 상상력에 결합시켜 아름다움의 미학에 접근하고 있다.'],\n",
              " ['결코 더럽혀지지 않는, 절대로 더럽혀질 수가 없는 어떤 흰 것에 관한 이야기!한국인 최초 맨부커상 수상 작가 한강의 소설 『흰』',\n",
              "  '2018년 맨부커 인터네셔널 부문 최종후보작으로 선정된 이 작품은, 2013년 겨울에 기획해 2014년에 완성된 초고를 바탕으로 글의 매무새를 닳도록 만지고 또 어루만져서 2016년 5월에 처음 펴냈던 책이다',\n",
              "  '삶과 죽음이라는 경계를 무력하게 만드는 이 소설은 한 권의 시집으로 읽힘에 손색이 없는 65편의 이야기로 구성되어 있다',\n",
              "  '강보, 배내옷, 각설탕, 입김, 달, 쌀, 파도, 백지, 백발, 수의…',\n",
              "  '작가로부터 불려나온 흰 것의 목록은 총 65개의 이야기로 파생되어 ‘나’와 ‘그녀’와 ‘모든 흰’이라는 세 개의 장 아래 담겨 있다',\n",
              "  '한 권의 소설이지만 각 소제목, 흰 것의 목록들 아래 각각의 이야기들이 그 자체로 밀도 있는 완성도를 자랑한다',\n",
              "  '‘나’에게는 죽은 어머니가 스물세 살에 낳았다 태어난 지 두 시간 만에 죽었다는 ‘언니’의 사연이 있다',\n",
              "  '나는 지구의 반대편의 오래된 한 도시로 옮겨온 뒤에도 자꾸만 떠오르는 오래된 기억들에 사로잡힌다',\n",
              "  '나에게서 비롯된 이야기는 ‘그녀’에게로 시선을 옮겨간다',\n",
              "  '나는 그녀가 나대신 이곳으로 왔다고 생각하고, 그런 그녀를 통해 세상의 흰 것들을 다시금 만나기에 이른다.']]"
            ]
          },
          "metadata": {},
          "execution_count": 137
        }
      ]
    },
    {
      "cell_type": "code",
      "metadata": {
        "colab": {
          "base_uri": "https://localhost:8080/"
        },
        "id": "2IPUjDAYWt3O",
        "outputId": "8adfa669-f4b3-4772-e6d0-5177ae98fc33"
      },
      "source": [
        "print(len(docs), len(docs[1]))"
      ],
      "execution_count": null,
      "outputs": [
        {
          "output_type": "stream",
          "name": "stdout",
          "text": [
            "4 5\n"
          ]
        }
      ]
    },
    {
      "cell_type": "markdown",
      "metadata": {
        "id": "dPLuwSphGOzL"
      },
      "source": [
        "# **2. 웹크롤링으로 수집한 텍스트 데이터 전처리**"
      ]
    },
    {
      "cell_type": "code",
      "metadata": {
        "colab": {
          "base_uri": "https://localhost:8080/"
        },
        "id": "zwLG9MqIirqm",
        "outputId": "6bbff306-1ef4-4ba4-fb7c-0f80d13b7731"
      },
      "source": [
        "!set -x \\\n",
        "&& pip install konlpy \\\n",
        "&& curl -s https://raw.githubusercontent.com/konlpy/konlpy/master/scripts/mecab.sh | bash -x"
      ],
      "execution_count": null,
      "outputs": [
        {
          "output_type": "stream",
          "name": "stdout",
          "text": [
            "+ pip install konlpy\n",
            "Requirement already satisfied: konlpy in /usr/local/lib/python3.7/dist-packages (0.5.2)\n",
            "Requirement already satisfied: JPype1>=0.7.0 in /usr/local/lib/python3.7/dist-packages (from konlpy) (1.3.0)\n",
            "Requirement already satisfied: beautifulsoup4==4.6.0 in /usr/local/lib/python3.7/dist-packages (from konlpy) (4.6.0)\n",
            "Requirement already satisfied: tweepy>=3.7.0 in /usr/local/lib/python3.7/dist-packages (from konlpy) (3.10.0)\n",
            "Requirement already satisfied: lxml>=4.1.0 in /usr/local/lib/python3.7/dist-packages (from konlpy) (4.2.6)\n",
            "Requirement already satisfied: numpy>=1.6 in /usr/local/lib/python3.7/dist-packages (from konlpy) (1.21.4)\n",
            "Requirement already satisfied: colorama in /usr/local/lib/python3.7/dist-packages (from konlpy) (0.4.4)\n",
            "Requirement already satisfied: typing-extensions in /usr/local/lib/python3.7/dist-packages (from JPype1>=0.7.0->konlpy) (3.7.4.3)\n",
            "Requirement already satisfied: requests[socks]>=2.11.1 in /usr/local/lib/python3.7/dist-packages (from tweepy>=3.7.0->konlpy) (2.23.0)\n",
            "Requirement already satisfied: six>=1.10.0 in /usr/local/lib/python3.7/dist-packages (from tweepy>=3.7.0->konlpy) (1.15.0)\n",
            "Requirement already satisfied: requests-oauthlib>=0.7.0 in /usr/local/lib/python3.7/dist-packages (from tweepy>=3.7.0->konlpy) (1.3.0)\n",
            "Requirement already satisfied: oauthlib>=3.0.0 in /usr/local/lib/python3.7/dist-packages (from requests-oauthlib>=0.7.0->tweepy>=3.7.0->konlpy) (3.1.1)\n",
            "Requirement already satisfied: idna<3,>=2.5 in /usr/local/lib/python3.7/dist-packages (from requests[socks]>=2.11.1->tweepy>=3.7.0->konlpy) (2.10)\n",
            "Requirement already satisfied: urllib3!=1.25.0,!=1.25.1,<1.26,>=1.21.1 in /usr/local/lib/python3.7/dist-packages (from requests[socks]>=2.11.1->tweepy>=3.7.0->konlpy) (1.24.3)\n",
            "Requirement already satisfied: chardet<4,>=3.0.2 in /usr/local/lib/python3.7/dist-packages (from requests[socks]>=2.11.1->tweepy>=3.7.0->konlpy) (3.0.4)\n",
            "Requirement already satisfied: certifi>=2017.4.17 in /usr/local/lib/python3.7/dist-packages (from requests[socks]>=2.11.1->tweepy>=3.7.0->konlpy) (2021.5.30)\n",
            "Requirement already satisfied: PySocks!=1.5.7,>=1.5.6 in /usr/local/lib/python3.7/dist-packages (from requests[socks]>=2.11.1->tweepy>=3.7.0->konlpy) (1.7.1)\n",
            "+ bash -x\n",
            "+ curl -s https://raw.githubusercontent.com/konlpy/konlpy/master/scripts/mecab.sh\n",
            "+ mecab_dicdir=/usr/local/lib/mecab/dic/mecab-ko-dic\n",
            "+ set -e\n",
            "++ uname\n",
            "+ os=Linux\n",
            "+ [[ ! Linux == \\L\\i\\n\\u\\x ]]\n",
            "+ hash sudo\n",
            "+ sudo=sudo\n",
            "+ python=python3\n",
            "+ hash pyenv\n",
            "+ at_user_site=\n",
            "++ check_python_site_location_is_writable\n",
            "++ python3 -\n",
            "+ [[ 1 == \\0 ]]\n",
            "+ hash automake\n",
            "+ hash mecab\n",
            "+ echo 'mecab-ko is already installed'\n",
            "mecab-ko is already installed\n",
            "+ [[ -d /usr/local/lib/mecab/dic/mecab-ko-dic ]]\n",
            "+ echo 'mecab-ko-dic is already installed'\n",
            "mecab-ko-dic is already installed\n",
            "++ python3 -c 'import pkgutil; print(1 if pkgutil.find_loader(\"MeCab\") else 0)'\n",
            "+ [[ 1 == \\1 ]]\n",
            "+ echo 'mecab-python is already installed'\n",
            "mecab-python is already installed\n",
            "+ echo Done.\n",
            "Done.\n"
          ]
        }
      ]
    },
    {
      "cell_type": "code",
      "metadata": {
        "id": "hAPanckdDxzD"
      },
      "source": [
        "import konlpy\n",
        "tag = konlpy.tag.Mecab()"
      ],
      "execution_count": null,
      "outputs": []
    },
    {
      "cell_type": "markdown",
      "metadata": {
        "id": "7mmdXtEE0B-r"
      },
      "source": [
        "Knolpy라이브러리의 mecab으로 '소년이 온다'의 명사만 출력해본다."
      ]
    },
    {
      "cell_type": "code",
      "metadata": {
        "colab": {
          "base_uri": "https://localhost:8080/"
        },
        "id": "dbdyHmQBN4oU",
        "outputId": "7a091bf1-f83a-4010-f905-d768f27f9378"
      },
      "source": [
        "print(tag.nouns(' '.join(docs[0])))"
      ],
      "execution_count": null,
      "outputs": [
        {
          "output_type": "stream",
          "name": "stdout",
          "text": [
            "['감수', '문장', '인간', '존재', '본질', '탐구', '작가', '한강', '여섯', '번', '장편', '소설', '소년', '출간', '년', '광주', '월', '창비', '문학', '블로그', '창문', '연재', '당시', '년', '월', '년', '월', '독자', '이목', '열', '다섯', '살', '소년', '이야기', '상처', '구조', '투시', '천착', '서사', '강만', '수', '방식', '년', '월', '조명', '한강', '영혼', '말', '대신', '전', '듯', '진심', '문장', '시절', '무심', '이후', '우리', '질문', '트라우마', '사람', '위무', '소년', '광주', '민주', '운동', '당시', '계엄군', '중학생', '동호', '주변', '인물', '후', '사람', '고통', '내면', '당시', '처절', '장면', '핍진', '묘사', '지금', '우리', '역사', '기억', '무엇', '환기', '백지연', '평론가', '소설', '수', '소설', '통과', '어디', '수', '작가', '스스로', '고백', '소설', '소설가', '한강', '지금', '작품', '세계', '단계', '한강', '한강', '소설', '신형철', '평론가', '자신', '말', '수', '작품']\n"
          ]
        }
      ]
    },
    {
      "cell_type": "markdown",
      "metadata": {
        "id": "fDjD9yBP0Na5"
      },
      "source": [
        "작가 이름인 '한강'단어는 네 문서 모두 자주 나올 것이라고 생각하여 불용어로 지정 후 삭제해준다. nouns()로 추출된 명사는 noun개체로 만들어준다."
      ]
    },
    {
      "cell_type": "code",
      "metadata": {
        "colab": {
          "base_uri": "https://localhost:8080/"
        },
        "id": "9-_RXRCHEHYe",
        "outputId": "fd387dce-c193-43bd-b4ee-b189b4eb295a"
      },
      "source": [
        "tokens=[]\n",
        "corpus =[]\n",
        "stopwords = ['한강']\n",
        "\n",
        "for doc in docs:\n",
        "  noun = tag.nouns(' '.join(doc))\n",
        "  noun = [x for x in noun if x not in stopwords] \n",
        "  tokens.append(noun)\n",
        "  corpus.append(' '.join(noun))\n",
        "\n",
        "print(corpus)\n",
        "print(tokens)"
      ],
      "execution_count": null,
      "outputs": [
        {
          "output_type": "stream",
          "name": "stdout",
          "text": [
            "['감수 문장 인간 존재 본질 탐구 작가 여섯 번 장편 소설 소년 출간 년 광주 월 창비 문학 블로그 창문 연재 당시 년 월 년 월 독자 이목 열 다섯 살 소년 이야기 상처 구조 투시 천착 서사 강만 수 방식 년 월 조명 영혼 말 대신 전 듯 진심 문장 시절 무심 이후 우리 질문 트라우마 사람 위무 소년 광주 민주 운동 당시 계엄군 중학생 동호 주변 인물 후 사람 고통 내면 당시 처절 장면 핍진 묘사 지금 우리 역사 기억 무엇 환기 백지연 평론가 소설 수 소설 통과 어디 수 작가 스스로 고백 소설 소설가 지금 작품 세계 단계 소설 신형철 평론가 자신 말 수 작품', '무엇 생각 수 가슴 불 네 이곳 이 이곳 이 꿈 사랑 기억 년 채식주의자 인터내셔널 부커 상 수상 년 상 최종 후보 작가 년 만 신작 장편 소설 작별 출간 년 겨울 이듬해 봄 계간 문학 동네 전반부 연재 관심 뒤 일 년 후반부 집필 전체 과정 완성 본래 눈 송이 동안 년 황순원문학상 수 상작 작별 년 김유정 문학상 수 상작 눈 부작 마지막 작품 구상 자체 완결 작품 형태 바 작가 문학 궤적 작별 각별 의미 수 이 소년 눈 연작 등 근작 어둠 속 줄기 빛 인간 고투 존엄 문학 현재 모습 확인 수 비극 역사 기억 인간 인간 사랑 이야기 눈 이미지 시 문장 압도', '년 전 봄 작가 여자 베란다 식물 남자 그녀 화분 이야기 내 여자 열매 집필 변주 생각 출발 것 연작 소설 채식주의자 표제 작인 채식주의자 년 이상 문학상 수 상작 몽고반점 나무 불꽃 구성 소설 작가 년 년 여름 세편 중편 소설 때 저마다 이야기 것 작가 이야기 장편 소설 올해 등단 년 작가 작품 속 시심 문체 밀도 구성 작가 특유 개성 반영 표제 작인 채식주의자 지금 소설가 발표 작품 등장 욕망 식물 죽음 등 인간 본연 문제 편 집약 수작 평가 채식주의자 육식 거부 영혜 그 남편 나 이야기 영혜 작가 년 전 발표 단편 내 여자 열매 식물 상상 극대 인물 희망 삶 체념 베란다 나무 단편 속 주인공 시절 각인 기억 때문 육식 거부 채 나무 영혜 연관 고리 외 욕망 예술혼 승화 결합 작품 평가 이상 문학상 수상 부 몽고반점 연작 소설 채식주의자 전체 줄거리 연결 소설 텍스트 확장 상처 영혼 고통 식물 상상력 결합 미학 접근', '수 것 이야기 한국인 최초 부커 수상 작가 소설 년 부커 인터 널 부문 최종 후보작 선정 작품 년 겨울 기획 년 완성 초고 바탕 글 매무새 년 월 책 삶 죽음 경계 무력 소설 권 시집 손색 편 이야기 구성 강보 배내옷 각설탕 입김 달 쌀 파도 백발 수의 작가 것 목록 개 이야기 파생 나 그녀 개 장 아래 권 소설 소제목 것 목록 아래 각각 이야기 자체 완성도 자랑 나 어머니 스물세 살 지 시간 만 언니 사연 나 지구 반대편 오래 도시 뒤 오래 기억 나 이야기 그녀 게 시선 나 그녀 이곳 생각 그녀 세상 것']\n",
            "[['감수', '문장', '인간', '존재', '본질', '탐구', '작가', '여섯', '번', '장편', '소설', '소년', '출간', '년', '광주', '월', '창비', '문학', '블로그', '창문', '연재', '당시', '년', '월', '년', '월', '독자', '이목', '열', '다섯', '살', '소년', '이야기', '상처', '구조', '투시', '천착', '서사', '강만', '수', '방식', '년', '월', '조명', '영혼', '말', '대신', '전', '듯', '진심', '문장', '시절', '무심', '이후', '우리', '질문', '트라우마', '사람', '위무', '소년', '광주', '민주', '운동', '당시', '계엄군', '중학생', '동호', '주변', '인물', '후', '사람', '고통', '내면', '당시', '처절', '장면', '핍진', '묘사', '지금', '우리', '역사', '기억', '무엇', '환기', '백지연', '평론가', '소설', '수', '소설', '통과', '어디', '수', '작가', '스스로', '고백', '소설', '소설가', '지금', '작품', '세계', '단계', '소설', '신형철', '평론가', '자신', '말', '수', '작품'], ['무엇', '생각', '수', '가슴', '불', '네', '이곳', '이', '이곳', '이', '꿈', '사랑', '기억', '년', '채식주의자', '인터내셔널', '부커', '상', '수상', '년', '상', '최종', '후보', '작가', '년', '만', '신작', '장편', '소설', '작별', '출간', '년', '겨울', '이듬해', '봄', '계간', '문학', '동네', '전반부', '연재', '관심', '뒤', '일', '년', '후반부', '집필', '전체', '과정', '완성', '본래', '눈', '송이', '동안', '년', '황순원문학상', '수', '상작', '작별', '년', '김유정', '문학상', '수', '상작', '눈', '부작', '마지막', '작품', '구상', '자체', '완결', '작품', '형태', '바', '작가', '문학', '궤적', '작별', '각별', '의미', '수', '이', '소년', '눈', '연작', '등', '근작', '어둠', '속', '줄기', '빛', '인간', '고투', '존엄', '문학', '현재', '모습', '확인', '수', '비극', '역사', '기억', '인간', '인간', '사랑', '이야기', '눈', '이미지', '시', '문장', '압도'], ['년', '전', '봄', '작가', '여자', '베란다', '식물', '남자', '그녀', '화분', '이야기', '내', '여자', '열매', '집필', '변주', '생각', '출발', '것', '연작', '소설', '채식주의자', '표제', '작인', '채식주의자', '년', '이상', '문학상', '수', '상작', '몽고반점', '나무', '불꽃', '구성', '소설', '작가', '년', '년', '여름', '세편', '중편', '소설', '때', '저마다', '이야기', '것', '작가', '이야기', '장편', '소설', '올해', '등단', '년', '작가', '작품', '속', '시심', '문체', '밀도', '구성', '작가', '특유', '개성', '반영', '표제', '작인', '채식주의자', '지금', '소설가', '발표', '작품', '등장', '욕망', '식물', '죽음', '등', '인간', '본연', '문제', '편', '집약', '수작', '평가', '채식주의자', '육식', '거부', '영혜', '그', '남편', '나', '이야기', '영혜', '작가', '년', '전', '발표', '단편', '내', '여자', '열매', '식물', '상상', '극대', '인물', '희망', '삶', '체념', '베란다', '나무', '단편', '속', '주인공', '시절', '각인', '기억', '때문', '육식', '거부', '채', '나무', '영혜', '연관', '고리', '외', '욕망', '예술혼', '승화', '결합', '작품', '평가', '이상', '문학상', '수상', '부', '몽고반점', '연작', '소설', '채식주의자', '전체', '줄거리', '연결', '소설', '텍스트', '확장', '상처', '영혼', '고통', '식물', '상상력', '결합', '미학', '접근'], ['수', '것', '이야기', '한국인', '최초', '부커', '수상', '작가', '소설', '년', '부커', '인터', '널', '부문', '최종', '후보작', '선정', '작품', '년', '겨울', '기획', '년', '완성', '초고', '바탕', '글', '매무새', '년', '월', '책', '삶', '죽음', '경계', '무력', '소설', '권', '시집', '손색', '편', '이야기', '구성', '강보', '배내옷', '각설탕', '입김', '달', '쌀', '파도', '백발', '수의', '작가', '것', '목록', '개', '이야기', '파생', '나', '그녀', '개', '장', '아래', '권', '소설', '소제목', '것', '목록', '아래', '각각', '이야기', '자체', '완성도', '자랑', '나', '어머니', '스물세', '살', '지', '시간', '만', '언니', '사연', '나', '지구', '반대편', '오래', '도시', '뒤', '오래', '기억', '나', '이야기', '그녀', '게', '시선', '나', '그녀', '이곳', '생각', '그녀', '세상', '것']]\n"
          ]
        }
      ]
    },
    {
      "cell_type": "markdown",
      "metadata": {
        "id": "S_LHGsAFHDDL"
      },
      "source": [
        "# **3. DTM과 TF-IDF로 토픽 탐색**"
      ]
    },
    {
      "cell_type": "code",
      "metadata": {
        "id": "OJaCOImZFkOK"
      },
      "source": [
        "import pandas as pd\n",
        "from sklearn.feature_extraction.text import CountVectorizer\n",
        "import gensim"
      ],
      "execution_count": null,
      "outputs": []
    },
    {
      "cell_type": "markdown",
      "metadata": {
        "id": "clByw3L90hvO"
      },
      "source": [
        "3.1. DTM(문서 단어 행렬)"
      ]
    },
    {
      "cell_type": "markdown",
      "metadata": {
        "id": "JyklwU_l0lqi"
      },
      "source": [
        "DTM은 단어의 빈도를 표현한 것으로, DTM을 활용하여 4개의 문서에 단어, 즉 명사를 가져왔다. '기억'이라는 단어는 모든 문서에 등장하는 것을 볼 수 있다. "
      ]
    },
    {
      "cell_type": "code",
      "metadata": {
        "colab": {
          "base_uri": "https://localhost:8080/",
          "height": 254
        },
        "id": "qSFukMoenfIM",
        "outputId": "58b9acf0-84cb-4acc-dba3-4161c674229e"
      },
      "source": [
        "g_dictionary = gensim.corpora.Dictionary(tokens)\n",
        "g_corpus = [g_dictionary.doc2bow(text) for text in tokens]\n",
        "vector = CountVectorizer(vocabulary=g_dictionary.token2id)\n",
        "dtm = vector.fit_transform(corpus).toarray()\n",
        "col = g_dictionary.token2id.keys()\n",
        "pd.DataFrame(dtm, columns=col)"
      ],
      "execution_count": null,
      "outputs": [
        {
          "output_type": "execute_result",
          "data": {
            "text/html": [
              "<div>\n",
              "<style scoped>\n",
              "    .dataframe tbody tr th:only-of-type {\n",
              "        vertical-align: middle;\n",
              "    }\n",
              "\n",
              "    .dataframe tbody tr th {\n",
              "        vertical-align: top;\n",
              "    }\n",
              "\n",
              "    .dataframe thead th {\n",
              "        text-align: right;\n",
              "    }\n",
              "</style>\n",
              "<table border=\"1\" class=\"dataframe\">\n",
              "  <thead>\n",
              "    <tr style=\"text-align: right;\">\n",
              "      <th></th>\n",
              "      <th>감수</th>\n",
              "      <th>강만</th>\n",
              "      <th>계엄군</th>\n",
              "      <th>고백</th>\n",
              "      <th>고통</th>\n",
              "      <th>광주</th>\n",
              "      <th>구조</th>\n",
              "      <th>기억</th>\n",
              "      <th>내면</th>\n",
              "      <th>년</th>\n",
              "      <th>다섯</th>\n",
              "      <th>단계</th>\n",
              "      <th>당시</th>\n",
              "      <th>대신</th>\n",
              "      <th>독자</th>\n",
              "      <th>동호</th>\n",
              "      <th>듯</th>\n",
              "      <th>말</th>\n",
              "      <th>묘사</th>\n",
              "      <th>무심</th>\n",
              "      <th>무엇</th>\n",
              "      <th>문장</th>\n",
              "      <th>문학</th>\n",
              "      <th>민주</th>\n",
              "      <th>방식</th>\n",
              "      <th>백지연</th>\n",
              "      <th>번</th>\n",
              "      <th>본질</th>\n",
              "      <th>블로그</th>\n",
              "      <th>사람</th>\n",
              "      <th>살</th>\n",
              "      <th>상처</th>\n",
              "      <th>서사</th>\n",
              "      <th>세계</th>\n",
              "      <th>소년</th>\n",
              "      <th>소설</th>\n",
              "      <th>소설가</th>\n",
              "      <th>수</th>\n",
              "      <th>스스로</th>\n",
              "      <th>시절</th>\n",
              "      <th>...</th>\n",
              "      <th>널</th>\n",
              "      <th>달</th>\n",
              "      <th>도시</th>\n",
              "      <th>매무새</th>\n",
              "      <th>목록</th>\n",
              "      <th>무력</th>\n",
              "      <th>바탕</th>\n",
              "      <th>반대편</th>\n",
              "      <th>배내옷</th>\n",
              "      <th>백발</th>\n",
              "      <th>부문</th>\n",
              "      <th>사연</th>\n",
              "      <th>선정</th>\n",
              "      <th>세상</th>\n",
              "      <th>소제목</th>\n",
              "      <th>손색</th>\n",
              "      <th>수의</th>\n",
              "      <th>스물세</th>\n",
              "      <th>시간</th>\n",
              "      <th>시선</th>\n",
              "      <th>시집</th>\n",
              "      <th>쌀</th>\n",
              "      <th>아래</th>\n",
              "      <th>어머니</th>\n",
              "      <th>언니</th>\n",
              "      <th>오래</th>\n",
              "      <th>완성도</th>\n",
              "      <th>인터</th>\n",
              "      <th>입김</th>\n",
              "      <th>자랑</th>\n",
              "      <th>장</th>\n",
              "      <th>지</th>\n",
              "      <th>지구</th>\n",
              "      <th>책</th>\n",
              "      <th>초고</th>\n",
              "      <th>최초</th>\n",
              "      <th>파도</th>\n",
              "      <th>파생</th>\n",
              "      <th>한국인</th>\n",
              "      <th>후보작</th>\n",
              "    </tr>\n",
              "  </thead>\n",
              "  <tbody>\n",
              "    <tr>\n",
              "      <th>0</th>\n",
              "      <td>1</td>\n",
              "      <td>1</td>\n",
              "      <td>1</td>\n",
              "      <td>1</td>\n",
              "      <td>1</td>\n",
              "      <td>2</td>\n",
              "      <td>1</td>\n",
              "      <td>1</td>\n",
              "      <td>1</td>\n",
              "      <td>0</td>\n",
              "      <td>1</td>\n",
              "      <td>1</td>\n",
              "      <td>3</td>\n",
              "      <td>1</td>\n",
              "      <td>1</td>\n",
              "      <td>1</td>\n",
              "      <td>0</td>\n",
              "      <td>0</td>\n",
              "      <td>1</td>\n",
              "      <td>1</td>\n",
              "      <td>1</td>\n",
              "      <td>2</td>\n",
              "      <td>1</td>\n",
              "      <td>1</td>\n",
              "      <td>1</td>\n",
              "      <td>1</td>\n",
              "      <td>0</td>\n",
              "      <td>1</td>\n",
              "      <td>1</td>\n",
              "      <td>2</td>\n",
              "      <td>0</td>\n",
              "      <td>1</td>\n",
              "      <td>1</td>\n",
              "      <td>1</td>\n",
              "      <td>3</td>\n",
              "      <td>5</td>\n",
              "      <td>1</td>\n",
              "      <td>0</td>\n",
              "      <td>1</td>\n",
              "      <td>1</td>\n",
              "      <td>...</td>\n",
              "      <td>0</td>\n",
              "      <td>0</td>\n",
              "      <td>0</td>\n",
              "      <td>0</td>\n",
              "      <td>0</td>\n",
              "      <td>0</td>\n",
              "      <td>0</td>\n",
              "      <td>0</td>\n",
              "      <td>0</td>\n",
              "      <td>0</td>\n",
              "      <td>0</td>\n",
              "      <td>0</td>\n",
              "      <td>0</td>\n",
              "      <td>0</td>\n",
              "      <td>0</td>\n",
              "      <td>0</td>\n",
              "      <td>0</td>\n",
              "      <td>0</td>\n",
              "      <td>0</td>\n",
              "      <td>0</td>\n",
              "      <td>0</td>\n",
              "      <td>0</td>\n",
              "      <td>0</td>\n",
              "      <td>0</td>\n",
              "      <td>0</td>\n",
              "      <td>0</td>\n",
              "      <td>0</td>\n",
              "      <td>0</td>\n",
              "      <td>0</td>\n",
              "      <td>0</td>\n",
              "      <td>0</td>\n",
              "      <td>0</td>\n",
              "      <td>0</td>\n",
              "      <td>0</td>\n",
              "      <td>0</td>\n",
              "      <td>0</td>\n",
              "      <td>0</td>\n",
              "      <td>0</td>\n",
              "      <td>0</td>\n",
              "      <td>0</td>\n",
              "    </tr>\n",
              "    <tr>\n",
              "      <th>1</th>\n",
              "      <td>0</td>\n",
              "      <td>0</td>\n",
              "      <td>0</td>\n",
              "      <td>0</td>\n",
              "      <td>0</td>\n",
              "      <td>0</td>\n",
              "      <td>0</td>\n",
              "      <td>2</td>\n",
              "      <td>0</td>\n",
              "      <td>0</td>\n",
              "      <td>0</td>\n",
              "      <td>0</td>\n",
              "      <td>0</td>\n",
              "      <td>0</td>\n",
              "      <td>0</td>\n",
              "      <td>0</td>\n",
              "      <td>0</td>\n",
              "      <td>0</td>\n",
              "      <td>0</td>\n",
              "      <td>0</td>\n",
              "      <td>1</td>\n",
              "      <td>1</td>\n",
              "      <td>3</td>\n",
              "      <td>0</td>\n",
              "      <td>0</td>\n",
              "      <td>0</td>\n",
              "      <td>0</td>\n",
              "      <td>0</td>\n",
              "      <td>0</td>\n",
              "      <td>0</td>\n",
              "      <td>0</td>\n",
              "      <td>0</td>\n",
              "      <td>0</td>\n",
              "      <td>0</td>\n",
              "      <td>1</td>\n",
              "      <td>1</td>\n",
              "      <td>0</td>\n",
              "      <td>0</td>\n",
              "      <td>0</td>\n",
              "      <td>0</td>\n",
              "      <td>...</td>\n",
              "      <td>0</td>\n",
              "      <td>0</td>\n",
              "      <td>0</td>\n",
              "      <td>0</td>\n",
              "      <td>0</td>\n",
              "      <td>0</td>\n",
              "      <td>0</td>\n",
              "      <td>0</td>\n",
              "      <td>0</td>\n",
              "      <td>0</td>\n",
              "      <td>0</td>\n",
              "      <td>0</td>\n",
              "      <td>0</td>\n",
              "      <td>0</td>\n",
              "      <td>0</td>\n",
              "      <td>0</td>\n",
              "      <td>0</td>\n",
              "      <td>0</td>\n",
              "      <td>0</td>\n",
              "      <td>0</td>\n",
              "      <td>0</td>\n",
              "      <td>0</td>\n",
              "      <td>0</td>\n",
              "      <td>0</td>\n",
              "      <td>0</td>\n",
              "      <td>0</td>\n",
              "      <td>0</td>\n",
              "      <td>0</td>\n",
              "      <td>0</td>\n",
              "      <td>0</td>\n",
              "      <td>0</td>\n",
              "      <td>0</td>\n",
              "      <td>0</td>\n",
              "      <td>0</td>\n",
              "      <td>0</td>\n",
              "      <td>0</td>\n",
              "      <td>0</td>\n",
              "      <td>0</td>\n",
              "      <td>0</td>\n",
              "      <td>0</td>\n",
              "    </tr>\n",
              "    <tr>\n",
              "      <th>2</th>\n",
              "      <td>0</td>\n",
              "      <td>0</td>\n",
              "      <td>0</td>\n",
              "      <td>0</td>\n",
              "      <td>1</td>\n",
              "      <td>0</td>\n",
              "      <td>0</td>\n",
              "      <td>1</td>\n",
              "      <td>0</td>\n",
              "      <td>0</td>\n",
              "      <td>0</td>\n",
              "      <td>0</td>\n",
              "      <td>0</td>\n",
              "      <td>0</td>\n",
              "      <td>0</td>\n",
              "      <td>0</td>\n",
              "      <td>0</td>\n",
              "      <td>0</td>\n",
              "      <td>0</td>\n",
              "      <td>0</td>\n",
              "      <td>0</td>\n",
              "      <td>0</td>\n",
              "      <td>0</td>\n",
              "      <td>0</td>\n",
              "      <td>0</td>\n",
              "      <td>0</td>\n",
              "      <td>0</td>\n",
              "      <td>0</td>\n",
              "      <td>0</td>\n",
              "      <td>0</td>\n",
              "      <td>0</td>\n",
              "      <td>1</td>\n",
              "      <td>0</td>\n",
              "      <td>0</td>\n",
              "      <td>0</td>\n",
              "      <td>6</td>\n",
              "      <td>1</td>\n",
              "      <td>0</td>\n",
              "      <td>0</td>\n",
              "      <td>1</td>\n",
              "      <td>...</td>\n",
              "      <td>0</td>\n",
              "      <td>0</td>\n",
              "      <td>0</td>\n",
              "      <td>0</td>\n",
              "      <td>0</td>\n",
              "      <td>0</td>\n",
              "      <td>0</td>\n",
              "      <td>0</td>\n",
              "      <td>0</td>\n",
              "      <td>0</td>\n",
              "      <td>0</td>\n",
              "      <td>0</td>\n",
              "      <td>0</td>\n",
              "      <td>0</td>\n",
              "      <td>0</td>\n",
              "      <td>0</td>\n",
              "      <td>0</td>\n",
              "      <td>0</td>\n",
              "      <td>0</td>\n",
              "      <td>0</td>\n",
              "      <td>0</td>\n",
              "      <td>0</td>\n",
              "      <td>0</td>\n",
              "      <td>0</td>\n",
              "      <td>0</td>\n",
              "      <td>0</td>\n",
              "      <td>0</td>\n",
              "      <td>0</td>\n",
              "      <td>0</td>\n",
              "      <td>0</td>\n",
              "      <td>0</td>\n",
              "      <td>0</td>\n",
              "      <td>0</td>\n",
              "      <td>0</td>\n",
              "      <td>0</td>\n",
              "      <td>0</td>\n",
              "      <td>0</td>\n",
              "      <td>0</td>\n",
              "      <td>0</td>\n",
              "      <td>0</td>\n",
              "    </tr>\n",
              "    <tr>\n",
              "      <th>3</th>\n",
              "      <td>0</td>\n",
              "      <td>0</td>\n",
              "      <td>0</td>\n",
              "      <td>0</td>\n",
              "      <td>0</td>\n",
              "      <td>0</td>\n",
              "      <td>0</td>\n",
              "      <td>1</td>\n",
              "      <td>0</td>\n",
              "      <td>0</td>\n",
              "      <td>0</td>\n",
              "      <td>0</td>\n",
              "      <td>0</td>\n",
              "      <td>0</td>\n",
              "      <td>0</td>\n",
              "      <td>0</td>\n",
              "      <td>0</td>\n",
              "      <td>0</td>\n",
              "      <td>0</td>\n",
              "      <td>0</td>\n",
              "      <td>0</td>\n",
              "      <td>0</td>\n",
              "      <td>0</td>\n",
              "      <td>0</td>\n",
              "      <td>0</td>\n",
              "      <td>0</td>\n",
              "      <td>0</td>\n",
              "      <td>0</td>\n",
              "      <td>0</td>\n",
              "      <td>0</td>\n",
              "      <td>0</td>\n",
              "      <td>0</td>\n",
              "      <td>0</td>\n",
              "      <td>0</td>\n",
              "      <td>0</td>\n",
              "      <td>3</td>\n",
              "      <td>0</td>\n",
              "      <td>0</td>\n",
              "      <td>0</td>\n",
              "      <td>0</td>\n",
              "      <td>...</td>\n",
              "      <td>0</td>\n",
              "      <td>0</td>\n",
              "      <td>1</td>\n",
              "      <td>1</td>\n",
              "      <td>2</td>\n",
              "      <td>1</td>\n",
              "      <td>1</td>\n",
              "      <td>1</td>\n",
              "      <td>1</td>\n",
              "      <td>1</td>\n",
              "      <td>1</td>\n",
              "      <td>1</td>\n",
              "      <td>1</td>\n",
              "      <td>1</td>\n",
              "      <td>1</td>\n",
              "      <td>1</td>\n",
              "      <td>1</td>\n",
              "      <td>1</td>\n",
              "      <td>1</td>\n",
              "      <td>1</td>\n",
              "      <td>1</td>\n",
              "      <td>0</td>\n",
              "      <td>2</td>\n",
              "      <td>1</td>\n",
              "      <td>1</td>\n",
              "      <td>2</td>\n",
              "      <td>1</td>\n",
              "      <td>1</td>\n",
              "      <td>1</td>\n",
              "      <td>1</td>\n",
              "      <td>0</td>\n",
              "      <td>0</td>\n",
              "      <td>1</td>\n",
              "      <td>0</td>\n",
              "      <td>1</td>\n",
              "      <td>1</td>\n",
              "      <td>1</td>\n",
              "      <td>1</td>\n",
              "      <td>1</td>\n",
              "      <td>1</td>\n",
              "    </tr>\n",
              "  </tbody>\n",
              "</table>\n",
              "<p>4 rows × 268 columns</p>\n",
              "</div>"
            ],
            "text/plain": [
              "   감수  강만  계엄군  고백  고통  광주  구조  기억  내면  ...  지  지구  책  초고  최초  파도  파생  한국인  후보작\n",
              "0   1   1    1   1   1   2   1   1   1  ...  0   0  0   0   0   0   0    0    0\n",
              "1   0   0    0   0   0   0   0   2   0  ...  0   0  0   0   0   0   0    0    0\n",
              "2   0   0    0   0   1   0   0   1   0  ...  0   0  0   0   0   0   0    0    0\n",
              "3   0   0    0   0   0   0   0   1   0  ...  0   1  0   1   1   1   1    1    1\n",
              "\n",
              "[4 rows x 268 columns]"
            ]
          },
          "metadata": {},
          "execution_count": 144
        }
      ]
    },
    {
      "cell_type": "markdown",
      "metadata": {
        "id": "0VrSt5Yj06C9"
      },
      "source": [
        "3.2. TF-IDF"
      ]
    },
    {
      "cell_type": "markdown",
      "metadata": {
        "id": "C0CnQUJ91Ad9"
      },
      "source": [
        "TF-IDF는 단어 별 중요도를 알 수 있다. 모든 문서에 자주 등장하는 단어는 중요도가 낮고 특정 문서에서 자주 등장하는 단어는 중요도가 높다. \n",
        "'광주'라는 단어는 첫 번째 문서에서 2번 등장했기 때문에 중요도가 높다."
      ]
    },
    {
      "cell_type": "code",
      "metadata": {
        "colab": {
          "base_uri": "https://localhost:8080/",
          "height": 221
        },
        "id": "9eFMaAT6FuOc",
        "outputId": "f0486608-f960-4a7d-8c43-cd14af81dd59"
      },
      "source": [
        "from sklearn.feature_extraction.text import TfidfVectorizer\n",
        "tfidfv = TfidfVectorizer(vocabulary=g_dictionary.token2id)\n",
        "tfidf = tfidfv.fit_transform(corpus).toarray()\n",
        "col = g_dictionary.token2id.keys()\n",
        "pd.DataFrame(tfidf, columns=col)"
      ],
      "execution_count": null,
      "outputs": [
        {
          "output_type": "execute_result",
          "data": {
            "text/html": [
              "<div>\n",
              "<style scoped>\n",
              "    .dataframe tbody tr th:only-of-type {\n",
              "        vertical-align: middle;\n",
              "    }\n",
              "\n",
              "    .dataframe tbody tr th {\n",
              "        vertical-align: top;\n",
              "    }\n",
              "\n",
              "    .dataframe thead th {\n",
              "        text-align: right;\n",
              "    }\n",
              "</style>\n",
              "<table border=\"1\" class=\"dataframe\">\n",
              "  <thead>\n",
              "    <tr style=\"text-align: right;\">\n",
              "      <th></th>\n",
              "      <th>감수</th>\n",
              "      <th>강만</th>\n",
              "      <th>계엄군</th>\n",
              "      <th>고백</th>\n",
              "      <th>고통</th>\n",
              "      <th>광주</th>\n",
              "      <th>구조</th>\n",
              "      <th>기억</th>\n",
              "      <th>내면</th>\n",
              "      <th>년</th>\n",
              "      <th>다섯</th>\n",
              "      <th>단계</th>\n",
              "      <th>당시</th>\n",
              "      <th>대신</th>\n",
              "      <th>독자</th>\n",
              "      <th>동호</th>\n",
              "      <th>듯</th>\n",
              "      <th>말</th>\n",
              "      <th>묘사</th>\n",
              "      <th>무심</th>\n",
              "      <th>무엇</th>\n",
              "      <th>문장</th>\n",
              "      <th>문학</th>\n",
              "      <th>민주</th>\n",
              "      <th>방식</th>\n",
              "      <th>백지연</th>\n",
              "      <th>번</th>\n",
              "      <th>본질</th>\n",
              "      <th>블로그</th>\n",
              "      <th>사람</th>\n",
              "      <th>살</th>\n",
              "      <th>상처</th>\n",
              "      <th>서사</th>\n",
              "      <th>세계</th>\n",
              "      <th>소년</th>\n",
              "      <th>소설</th>\n",
              "      <th>소설가</th>\n",
              "      <th>수</th>\n",
              "      <th>스스로</th>\n",
              "      <th>시절</th>\n",
              "      <th>...</th>\n",
              "      <th>널</th>\n",
              "      <th>달</th>\n",
              "      <th>도시</th>\n",
              "      <th>매무새</th>\n",
              "      <th>목록</th>\n",
              "      <th>무력</th>\n",
              "      <th>바탕</th>\n",
              "      <th>반대편</th>\n",
              "      <th>배내옷</th>\n",
              "      <th>백발</th>\n",
              "      <th>부문</th>\n",
              "      <th>사연</th>\n",
              "      <th>선정</th>\n",
              "      <th>세상</th>\n",
              "      <th>소제목</th>\n",
              "      <th>손색</th>\n",
              "      <th>수의</th>\n",
              "      <th>스물세</th>\n",
              "      <th>시간</th>\n",
              "      <th>시선</th>\n",
              "      <th>시집</th>\n",
              "      <th>쌀</th>\n",
              "      <th>아래</th>\n",
              "      <th>어머니</th>\n",
              "      <th>언니</th>\n",
              "      <th>오래</th>\n",
              "      <th>완성도</th>\n",
              "      <th>인터</th>\n",
              "      <th>입김</th>\n",
              "      <th>자랑</th>\n",
              "      <th>장</th>\n",
              "      <th>지</th>\n",
              "      <th>지구</th>\n",
              "      <th>책</th>\n",
              "      <th>초고</th>\n",
              "      <th>최초</th>\n",
              "      <th>파도</th>\n",
              "      <th>파생</th>\n",
              "      <th>한국인</th>\n",
              "      <th>후보작</th>\n",
              "    </tr>\n",
              "  </thead>\n",
              "  <tbody>\n",
              "    <tr>\n",
              "      <th>0</th>\n",
              "      <td>0.100631</td>\n",
              "      <td>0.100631</td>\n",
              "      <td>0.100631</td>\n",
              "      <td>0.100631</td>\n",
              "      <td>0.079338</td>\n",
              "      <td>0.201261</td>\n",
              "      <td>0.100631</td>\n",
              "      <td>0.052513</td>\n",
              "      <td>0.100631</td>\n",
              "      <td>0.0</td>\n",
              "      <td>0.100631</td>\n",
              "      <td>0.100631</td>\n",
              "      <td>0.301892</td>\n",
              "      <td>0.100631</td>\n",
              "      <td>0.100631</td>\n",
              "      <td>0.100631</td>\n",
              "      <td>0.0</td>\n",
              "      <td>0.0</td>\n",
              "      <td>0.100631</td>\n",
              "      <td>0.100631</td>\n",
              "      <td>0.079338</td>\n",
              "      <td>0.158677</td>\n",
              "      <td>0.079338</td>\n",
              "      <td>0.100631</td>\n",
              "      <td>0.100631</td>\n",
              "      <td>0.100631</td>\n",
              "      <td>0.0</td>\n",
              "      <td>0.100631</td>\n",
              "      <td>0.100631</td>\n",
              "      <td>0.201261</td>\n",
              "      <td>0.0</td>\n",
              "      <td>0.079338</td>\n",
              "      <td>0.100631</td>\n",
              "      <td>0.100631</td>\n",
              "      <td>0.238015</td>\n",
              "      <td>0.262566</td>\n",
              "      <td>0.079338</td>\n",
              "      <td>0.0</td>\n",
              "      <td>0.100631</td>\n",
              "      <td>0.079338</td>\n",
              "      <td>...</td>\n",
              "      <td>0.0</td>\n",
              "      <td>0.0</td>\n",
              "      <td>0.000000</td>\n",
              "      <td>0.000000</td>\n",
              "      <td>0.000000</td>\n",
              "      <td>0.000000</td>\n",
              "      <td>0.000000</td>\n",
              "      <td>0.000000</td>\n",
              "      <td>0.000000</td>\n",
              "      <td>0.000000</td>\n",
              "      <td>0.000000</td>\n",
              "      <td>0.000000</td>\n",
              "      <td>0.000000</td>\n",
              "      <td>0.000000</td>\n",
              "      <td>0.000000</td>\n",
              "      <td>0.000000</td>\n",
              "      <td>0.000000</td>\n",
              "      <td>0.000000</td>\n",
              "      <td>0.000000</td>\n",
              "      <td>0.000000</td>\n",
              "      <td>0.000000</td>\n",
              "      <td>0.0</td>\n",
              "      <td>0.000000</td>\n",
              "      <td>0.000000</td>\n",
              "      <td>0.000000</td>\n",
              "      <td>0.000000</td>\n",
              "      <td>0.000000</td>\n",
              "      <td>0.000000</td>\n",
              "      <td>0.000000</td>\n",
              "      <td>0.000000</td>\n",
              "      <td>0.0</td>\n",
              "      <td>0.0</td>\n",
              "      <td>0.000000</td>\n",
              "      <td>0.0</td>\n",
              "      <td>0.000000</td>\n",
              "      <td>0.000000</td>\n",
              "      <td>0.000000</td>\n",
              "      <td>0.000000</td>\n",
              "      <td>0.000000</td>\n",
              "      <td>0.000000</td>\n",
              "    </tr>\n",
              "    <tr>\n",
              "      <th>1</th>\n",
              "      <td>0.000000</td>\n",
              "      <td>0.000000</td>\n",
              "      <td>0.000000</td>\n",
              "      <td>0.000000</td>\n",
              "      <td>0.000000</td>\n",
              "      <td>0.000000</td>\n",
              "      <td>0.000000</td>\n",
              "      <td>0.118774</td>\n",
              "      <td>0.000000</td>\n",
              "      <td>0.0</td>\n",
              "      <td>0.000000</td>\n",
              "      <td>0.000000</td>\n",
              "      <td>0.000000</td>\n",
              "      <td>0.000000</td>\n",
              "      <td>0.000000</td>\n",
              "      <td>0.000000</td>\n",
              "      <td>0.0</td>\n",
              "      <td>0.0</td>\n",
              "      <td>0.000000</td>\n",
              "      <td>0.000000</td>\n",
              "      <td>0.089723</td>\n",
              "      <td>0.089723</td>\n",
              "      <td>0.269170</td>\n",
              "      <td>0.000000</td>\n",
              "      <td>0.000000</td>\n",
              "      <td>0.000000</td>\n",
              "      <td>0.0</td>\n",
              "      <td>0.000000</td>\n",
              "      <td>0.000000</td>\n",
              "      <td>0.000000</td>\n",
              "      <td>0.0</td>\n",
              "      <td>0.000000</td>\n",
              "      <td>0.000000</td>\n",
              "      <td>0.000000</td>\n",
              "      <td>0.089723</td>\n",
              "      <td>0.059387</td>\n",
              "      <td>0.000000</td>\n",
              "      <td>0.0</td>\n",
              "      <td>0.000000</td>\n",
              "      <td>0.000000</td>\n",
              "      <td>...</td>\n",
              "      <td>0.0</td>\n",
              "      <td>0.0</td>\n",
              "      <td>0.000000</td>\n",
              "      <td>0.000000</td>\n",
              "      <td>0.000000</td>\n",
              "      <td>0.000000</td>\n",
              "      <td>0.000000</td>\n",
              "      <td>0.000000</td>\n",
              "      <td>0.000000</td>\n",
              "      <td>0.000000</td>\n",
              "      <td>0.000000</td>\n",
              "      <td>0.000000</td>\n",
              "      <td>0.000000</td>\n",
              "      <td>0.000000</td>\n",
              "      <td>0.000000</td>\n",
              "      <td>0.000000</td>\n",
              "      <td>0.000000</td>\n",
              "      <td>0.000000</td>\n",
              "      <td>0.000000</td>\n",
              "      <td>0.000000</td>\n",
              "      <td>0.000000</td>\n",
              "      <td>0.0</td>\n",
              "      <td>0.000000</td>\n",
              "      <td>0.000000</td>\n",
              "      <td>0.000000</td>\n",
              "      <td>0.000000</td>\n",
              "      <td>0.000000</td>\n",
              "      <td>0.000000</td>\n",
              "      <td>0.000000</td>\n",
              "      <td>0.000000</td>\n",
              "      <td>0.0</td>\n",
              "      <td>0.0</td>\n",
              "      <td>0.000000</td>\n",
              "      <td>0.0</td>\n",
              "      <td>0.000000</td>\n",
              "      <td>0.000000</td>\n",
              "      <td>0.000000</td>\n",
              "      <td>0.000000</td>\n",
              "      <td>0.000000</td>\n",
              "      <td>0.000000</td>\n",
              "    </tr>\n",
              "    <tr>\n",
              "      <th>2</th>\n",
              "      <td>0.000000</td>\n",
              "      <td>0.000000</td>\n",
              "      <td>0.000000</td>\n",
              "      <td>0.000000</td>\n",
              "      <td>0.056492</td>\n",
              "      <td>0.000000</td>\n",
              "      <td>0.000000</td>\n",
              "      <td>0.037391</td>\n",
              "      <td>0.000000</td>\n",
              "      <td>0.0</td>\n",
              "      <td>0.000000</td>\n",
              "      <td>0.000000</td>\n",
              "      <td>0.000000</td>\n",
              "      <td>0.000000</td>\n",
              "      <td>0.000000</td>\n",
              "      <td>0.000000</td>\n",
              "      <td>0.0</td>\n",
              "      <td>0.0</td>\n",
              "      <td>0.000000</td>\n",
              "      <td>0.000000</td>\n",
              "      <td>0.000000</td>\n",
              "      <td>0.000000</td>\n",
              "      <td>0.000000</td>\n",
              "      <td>0.000000</td>\n",
              "      <td>0.000000</td>\n",
              "      <td>0.000000</td>\n",
              "      <td>0.0</td>\n",
              "      <td>0.000000</td>\n",
              "      <td>0.000000</td>\n",
              "      <td>0.000000</td>\n",
              "      <td>0.0</td>\n",
              "      <td>0.056492</td>\n",
              "      <td>0.000000</td>\n",
              "      <td>0.000000</td>\n",
              "      <td>0.000000</td>\n",
              "      <td>0.224349</td>\n",
              "      <td>0.056492</td>\n",
              "      <td>0.0</td>\n",
              "      <td>0.000000</td>\n",
              "      <td>0.056492</td>\n",
              "      <td>...</td>\n",
              "      <td>0.0</td>\n",
              "      <td>0.0</td>\n",
              "      <td>0.000000</td>\n",
              "      <td>0.000000</td>\n",
              "      <td>0.000000</td>\n",
              "      <td>0.000000</td>\n",
              "      <td>0.000000</td>\n",
              "      <td>0.000000</td>\n",
              "      <td>0.000000</td>\n",
              "      <td>0.000000</td>\n",
              "      <td>0.000000</td>\n",
              "      <td>0.000000</td>\n",
              "      <td>0.000000</td>\n",
              "      <td>0.000000</td>\n",
              "      <td>0.000000</td>\n",
              "      <td>0.000000</td>\n",
              "      <td>0.000000</td>\n",
              "      <td>0.000000</td>\n",
              "      <td>0.000000</td>\n",
              "      <td>0.000000</td>\n",
              "      <td>0.000000</td>\n",
              "      <td>0.0</td>\n",
              "      <td>0.000000</td>\n",
              "      <td>0.000000</td>\n",
              "      <td>0.000000</td>\n",
              "      <td>0.000000</td>\n",
              "      <td>0.000000</td>\n",
              "      <td>0.000000</td>\n",
              "      <td>0.000000</td>\n",
              "      <td>0.000000</td>\n",
              "      <td>0.0</td>\n",
              "      <td>0.0</td>\n",
              "      <td>0.000000</td>\n",
              "      <td>0.0</td>\n",
              "      <td>0.000000</td>\n",
              "      <td>0.000000</td>\n",
              "      <td>0.000000</td>\n",
              "      <td>0.000000</td>\n",
              "      <td>0.000000</td>\n",
              "      <td>0.000000</td>\n",
              "    </tr>\n",
              "    <tr>\n",
              "      <th>3</th>\n",
              "      <td>0.000000</td>\n",
              "      <td>0.000000</td>\n",
              "      <td>0.000000</td>\n",
              "      <td>0.000000</td>\n",
              "      <td>0.000000</td>\n",
              "      <td>0.000000</td>\n",
              "      <td>0.000000</td>\n",
              "      <td>0.059667</td>\n",
              "      <td>0.000000</td>\n",
              "      <td>0.0</td>\n",
              "      <td>0.000000</td>\n",
              "      <td>0.000000</td>\n",
              "      <td>0.000000</td>\n",
              "      <td>0.000000</td>\n",
              "      <td>0.000000</td>\n",
              "      <td>0.000000</td>\n",
              "      <td>0.0</td>\n",
              "      <td>0.0</td>\n",
              "      <td>0.000000</td>\n",
              "      <td>0.000000</td>\n",
              "      <td>0.000000</td>\n",
              "      <td>0.000000</td>\n",
              "      <td>0.000000</td>\n",
              "      <td>0.000000</td>\n",
              "      <td>0.000000</td>\n",
              "      <td>0.000000</td>\n",
              "      <td>0.0</td>\n",
              "      <td>0.000000</td>\n",
              "      <td>0.000000</td>\n",
              "      <td>0.000000</td>\n",
              "      <td>0.0</td>\n",
              "      <td>0.000000</td>\n",
              "      <td>0.000000</td>\n",
              "      <td>0.000000</td>\n",
              "      <td>0.000000</td>\n",
              "      <td>0.179001</td>\n",
              "      <td>0.000000</td>\n",
              "      <td>0.0</td>\n",
              "      <td>0.000000</td>\n",
              "      <td>0.000000</td>\n",
              "      <td>...</td>\n",
              "      <td>0.0</td>\n",
              "      <td>0.0</td>\n",
              "      <td>0.114339</td>\n",
              "      <td>0.114339</td>\n",
              "      <td>0.228679</td>\n",
              "      <td>0.114339</td>\n",
              "      <td>0.114339</td>\n",
              "      <td>0.114339</td>\n",
              "      <td>0.114339</td>\n",
              "      <td>0.114339</td>\n",
              "      <td>0.114339</td>\n",
              "      <td>0.114339</td>\n",
              "      <td>0.114339</td>\n",
              "      <td>0.114339</td>\n",
              "      <td>0.114339</td>\n",
              "      <td>0.114339</td>\n",
              "      <td>0.114339</td>\n",
              "      <td>0.114339</td>\n",
              "      <td>0.114339</td>\n",
              "      <td>0.114339</td>\n",
              "      <td>0.114339</td>\n",
              "      <td>0.0</td>\n",
              "      <td>0.228679</td>\n",
              "      <td>0.114339</td>\n",
              "      <td>0.114339</td>\n",
              "      <td>0.228679</td>\n",
              "      <td>0.114339</td>\n",
              "      <td>0.114339</td>\n",
              "      <td>0.114339</td>\n",
              "      <td>0.114339</td>\n",
              "      <td>0.0</td>\n",
              "      <td>0.0</td>\n",
              "      <td>0.114339</td>\n",
              "      <td>0.0</td>\n",
              "      <td>0.114339</td>\n",
              "      <td>0.114339</td>\n",
              "      <td>0.114339</td>\n",
              "      <td>0.114339</td>\n",
              "      <td>0.114339</td>\n",
              "      <td>0.114339</td>\n",
              "    </tr>\n",
              "  </tbody>\n",
              "</table>\n",
              "<p>4 rows × 268 columns</p>\n",
              "</div>"
            ],
            "text/plain": [
              "         감수        강만       계엄군  ...        파생       한국인       후보작\n",
              "0  0.100631  0.100631  0.100631  ...  0.000000  0.000000  0.000000\n",
              "1  0.000000  0.000000  0.000000  ...  0.000000  0.000000  0.000000\n",
              "2  0.000000  0.000000  0.000000  ...  0.000000  0.000000  0.000000\n",
              "3  0.000000  0.000000  0.000000  ...  0.114339  0.114339  0.114339\n",
              "\n",
              "[4 rows x 268 columns]"
            ]
          },
          "metadata": {},
          "execution_count": 145
        }
      ]
    },
    {
      "cell_type": "markdown",
      "metadata": {
        "id": "3fSHLrKVHV2D"
      },
      "source": [
        "문서 유사도"
      ]
    },
    {
      "cell_type": "markdown",
      "metadata": {
        "id": "-5BZ4UVH1m0J"
      },
      "source": [
        "3.3 문서 유사도"
      ]
    },
    {
      "cell_type": "markdown",
      "metadata": {
        "id": "CTtkZzHj1oW2"
      },
      "source": [
        "코사인 유사도 방법으로 문서 별 유사도를 알 수 있다. 첫 번째 문서 '소년이 온다'와 두 번째 '작별하지 않는다'의 코사인 유사도는 낮은 수치로 문서가 유사하지 않다고 판단할 수 있다."
      ]
    },
    {
      "cell_type": "code",
      "metadata": {
        "id": "qBxosbqVQfW9"
      },
      "source": [
        "from numpy import dot\n",
        "from numpy.linalg import norm\n",
        "import numpy as np\n",
        "def cos_sim(A, B):\n",
        "       return dot(A, B)/(norm(A)*norm(B)) "
      ],
      "execution_count": null,
      "outputs": []
    },
    {
      "cell_type": "code",
      "metadata": {
        "colab": {
          "base_uri": "https://localhost:8080/"
        },
        "id": "qF6KBQt--bBY",
        "outputId": "5fe71c55-3622-476f-a28a-dbda60bb4fe2"
      },
      "source": [
        "print(cos_sim(dtm[0],dtm[1]),cos_sim(dtm[0],dtm[2]),cos_sim(dtm[0],dtm[3]) ) \n",
        "print(cos_sim(tfidf[0],tfidf[1]),cos_sim(tfidf[0],tfidf[2]),cos_sim(tfidf[0],tfidf[3]) ) "
      ],
      "execution_count": null,
      "outputs": [
        {
          "output_type": "stream",
          "name": "stdout",
          "text": [
            "0.26527030412314845 0.31888210402863215 0.2140431723695223\n",
            "0.15398223106836145 0.1457989546626607 0.08459939178928452\n"
          ]
        }
      ]
    },
    {
      "cell_type": "markdown",
      "metadata": {
        "id": "TM4aZp7e2pwM"
      },
      "source": [
        "TF-IDF에 따른 문서 별 단어의 배열을 출력한다."
      ]
    },
    {
      "cell_type": "code",
      "metadata": {
        "colab": {
          "base_uri": "https://localhost:8080/"
        },
        "id": "DTUlrmF7F9bm",
        "outputId": "22fe0375-06ea-41c2-bcbf-df8270f6080e"
      },
      "source": [
        "import numpy as np\n",
        "tfidf_order = np.flip(np.argsort(tfidf, axis=-1), axis=-1)\n",
        "tfidf_order"
      ],
      "execution_count": null,
      "outputs": [
        {
          "output_type": "execute_result",
          "data": {
            "text/plain": [
              "array([[ 12,  35,  34, ..., 171, 170, 133],\n",
              "       [134,  22, 112, ..., 179, 178,   0],\n",
              "       [187, 140,  57, ..., 132, 131,   0],\n",
              "       [156,  52, 232, ..., 139, 138,   0]])"
            ]
          },
          "metadata": {},
          "execution_count": 148
        }
      ]
    },
    {
      "cell_type": "code",
      "metadata": {
        "id": "mZ-Jffd1GKRO",
        "colab": {
          "base_uri": "https://localhost:8080/",
          "height": 35
        },
        "outputId": "9b4b3af3-e5d2-4a4f-fdf5-566806400632"
      },
      "source": [
        "id_to_word = {_id:word for word, _id in g_dictionary.token2id.items()}\n",
        "id_to_word[0]"
      ],
      "execution_count": null,
      "outputs": [
        {
          "output_type": "execute_result",
          "data": {
            "application/vnd.google.colaboratory.intrinsic+json": {
              "type": "string"
            },
            "text/plain": [
              "'감수'"
            ]
          },
          "metadata": {},
          "execution_count": 149
        }
      ]
    },
    {
      "cell_type": "markdown",
      "metadata": {
        "id": "StMGp3qv3br4"
      },
      "source": [
        "3.4. 토픽 탐색"
      ]
    },
    {
      "cell_type": "markdown",
      "metadata": {
        "id": "w0cgEG973ffw"
      },
      "source": [
        "단어의 중요도를 순서대로 정렬하여 문서마다 10개의 토픽 단어를 출력한다."
      ]
    },
    {
      "cell_type": "code",
      "metadata": {
        "colab": {
          "base_uri": "https://localhost:8080/",
          "height": 172
        },
        "id": "6ohLTFobGPlM",
        "outputId": "4abbade3-fa15-438e-9423-483f133cad55"
      },
      "source": [
        "n = 10\n",
        "topics =[]\n",
        "tfidf_mat = []\n",
        "for i, line in enumerate(tfidf_order):\n",
        "    str_order = [id_to_word[_id] for _id in line if 0 < tfidf[i][_id]]\n",
        "    tfidf_val = [tfidf[i,_id] for _id in line if 0 < tfidf[i][_id]]\n",
        "    tfidf_mat.append(tfidf_val[:n])\n",
        "    topics.append(str_order[:n])\n",
        "   \n",
        "pd.DataFrame(topics)"
      ],
      "execution_count": null,
      "outputs": [
        {
          "output_type": "execute_result",
          "data": {
            "text/html": [
              "<div>\n",
              "<style scoped>\n",
              "    .dataframe tbody tr th:only-of-type {\n",
              "        vertical-align: middle;\n",
              "    }\n",
              "\n",
              "    .dataframe tbody tr th {\n",
              "        vertical-align: top;\n",
              "    }\n",
              "\n",
              "    .dataframe thead th {\n",
              "        text-align: right;\n",
              "    }\n",
              "</style>\n",
              "<table border=\"1\" class=\"dataframe\">\n",
              "  <thead>\n",
              "    <tr style=\"text-align: right;\">\n",
              "      <th></th>\n",
              "      <th>0</th>\n",
              "      <th>1</th>\n",
              "      <th>2</th>\n",
              "      <th>3</th>\n",
              "      <th>4</th>\n",
              "      <th>5</th>\n",
              "      <th>6</th>\n",
              "      <th>7</th>\n",
              "      <th>8</th>\n",
              "      <th>9</th>\n",
              "    </tr>\n",
              "  </thead>\n",
              "  <tbody>\n",
              "    <tr>\n",
              "      <th>0</th>\n",
              "      <td>당시</td>\n",
              "      <td>소설</td>\n",
              "      <td>소년</td>\n",
              "      <td>우리</td>\n",
              "      <td>평론가</td>\n",
              "      <td>사람</td>\n",
              "      <td>광주</td>\n",
              "      <td>문장</td>\n",
              "      <td>지금</td>\n",
              "      <td>작품</td>\n",
              "    </tr>\n",
              "    <tr>\n",
              "      <th>1</th>\n",
              "      <td>작별</td>\n",
              "      <td>문학</td>\n",
              "      <td>사랑</td>\n",
              "      <td>인간</td>\n",
              "      <td>상작</td>\n",
              "      <td>이곳</td>\n",
              "      <td>기억</td>\n",
              "      <td>작가</td>\n",
              "      <td>작품</td>\n",
              "      <td>계간</td>\n",
              "    </tr>\n",
              "    <tr>\n",
              "      <th>2</th>\n",
              "      <td>식물</td>\n",
              "      <td>채식주의자</td>\n",
              "      <td>작가</td>\n",
              "      <td>소설</td>\n",
              "      <td>여자</td>\n",
              "      <td>영혜</td>\n",
              "      <td>나무</td>\n",
              "      <td>이야기</td>\n",
              "      <td>몽고반점</td>\n",
              "      <td>열매</td>\n",
              "    </tr>\n",
              "    <tr>\n",
              "      <th>3</th>\n",
              "      <td>그녀</td>\n",
              "      <td>이야기</td>\n",
              "      <td>목록</td>\n",
              "      <td>아래</td>\n",
              "      <td>오래</td>\n",
              "      <td>부커</td>\n",
              "      <td>소설</td>\n",
              "      <td>작가</td>\n",
              "      <td>사연</td>\n",
              "      <td>부문</td>\n",
              "    </tr>\n",
              "  </tbody>\n",
              "</table>\n",
              "</div>"
            ],
            "text/plain": [
              "    0      1   2   3    4   5   6    7     8   9\n",
              "0  당시     소설  소년  우리  평론가  사람  광주   문장    지금  작품\n",
              "1  작별     문학  사랑  인간   상작  이곳  기억   작가    작품  계간\n",
              "2  식물  채식주의자  작가  소설   여자  영혜  나무  이야기  몽고반점  열매\n",
              "3  그녀    이야기  목록  아래   오래  부커  소설   작가    사연  부문"
            ]
          },
          "metadata": {},
          "execution_count": 150
        }
      ]
    },
    {
      "cell_type": "markdown",
      "metadata": {
        "id": "qO4k2Sd_I-xK"
      },
      "source": [
        "# **4. Gensim라이브러리의 LDA 모형을 적합하여 문서별, 토픽별 키워드 탐색**"
      ]
    },
    {
      "cell_type": "markdown",
      "metadata": {
        "id": "AaE8r1Rb3-Eh"
      },
      "source": [
        "4.1. LDA 모형 적합"
      ]
    },
    {
      "cell_type": "markdown",
      "metadata": {
        "id": "bfDGC3NX4xTZ"
      },
      "source": [
        "LDA 모형은 문서의 토픽을 추출하는 모형이다. 2번째 문서를 10번 학습시킨 후 토픽이다."
      ]
    },
    {
      "cell_type": "code",
      "metadata": {
        "colab": {
          "base_uri": "https://localhost:8080/"
        },
        "id": "kASRxBL0Gmu_",
        "outputId": "0dcd86d1-e206-4360-a39f-95bac21c70ba"
      },
      "source": [
        "import gensim\n",
        "g_dictionary = gensim.corpora.Dictionary(tokens)\n",
        "g_corpus = [g_dictionary.doc2bow(text) for text in tokens]\n",
        "ldamodel = gensim.models.ldamodel.LdaModel(corpus=g_corpus, id2word=g_dictionary, num_topics=2, passes=10)\n",
        "print(ldamodel.print_topics())"
      ],
      "execution_count": null,
      "outputs": [
        {
          "output_type": "stream",
          "name": "stdout",
          "text": [
            "[(0, '0.035*\"년\" + 0.025*\"소설\" + 0.021*\"작가\" + 0.021*\"수\" + 0.015*\"작품\" + 0.013*\"이야기\" + 0.013*\"채식주의자\" + 0.011*\"인간\" + 0.009*\"월\" + 0.009*\"소년\"'), (1, '0.023*\"이야기\" + 0.023*\"나\" + 0.019*\"년\" + 0.019*\"것\" + 0.019*\"그녀\" + 0.015*\"소설\" + 0.011*\"작가\" + 0.011*\"부커\" + 0.011*\"권\" + 0.011*\"목록\"')]\n"
          ]
        }
      ]
    },
    {
      "cell_type": "markdown",
      "metadata": {
        "id": "u1mP8xe-450j"
      },
      "source": [
        "4.2. 문서별 키워드 탐색"
      ]
    },
    {
      "cell_type": "markdown",
      "metadata": {
        "id": "jiITWCLo48lH"
      },
      "source": [
        "문서별 키워드 탐색을 위해 format_topics_sentences()를 정의해준다."
      ]
    },
    {
      "cell_type": "code",
      "metadata": {
        "id": "ErAXxAmKQz3f"
      },
      "source": [
        "def format_topics_sentences(ldamodel=None, g_corpus=g_corpus, tokens=tokens):\n",
        "\n",
        "    sent_topics_df = pd.DataFrame()\n",
        "\n",
        "    for i, row_list in enumerate(ldamodel[g_corpus]):\n",
        "        row = row_list[0] if ldamodel.per_word_topics else row_list            \n",
        "        row = sorted(row, key=lambda x: (x[1]), reverse=True)\n",
        "     \n",
        "        for j, (topic_num, prop_topic) in enumerate(row):\n",
        "            if j == 0: \n",
        "                wp = ldamodel.show_topic(topic_num)\n",
        "                topic_keywords = \", \".join([word for word, prop in wp])\n",
        "                sent_topics_df = sent_topics_df.append(pd.Series([int(topic_num), round(prop_topic,4), topic_keywords]), ignore_index=True)\n",
        "            else:\n",
        "                break\n",
        "    sent_topics_df.columns = ['주요토픽', '토픽 기여도', '주요 토픽 키워드']\n",
        "\n",
        "    contents = pd.Series(tokens)\n",
        "    sent_topics_df = pd.concat([sent_topics_df, contents], axis=1)\n",
        "    return(sent_topics_df)"
      ],
      "execution_count": null,
      "outputs": []
    },
    {
      "cell_type": "markdown",
      "metadata": {
        "id": "YgZRD15z5FD-"
      },
      "source": [
        "문서 별 주요토픽, 토픽 기여도, 키워드, 토큰을 출력했을 때 세 번째 문서를 제외하고 나머지 문서들이 하나의 토픽이 되었다."
      ]
    },
    {
      "cell_type": "code",
      "metadata": {
        "colab": {
          "base_uri": "https://localhost:8080/",
          "height": 256
        },
        "id": "tK1hTgQeQ4WL",
        "outputId": "7715542e-6854-4b51-eaa0-c2b8bc6d666b"
      },
      "source": [
        "df_topic_sents_keywords = format_topics_sentences(ldamodel=ldamodel, g_corpus=g_corpus, tokens=tokens)\n",
        "\n",
        "df_dominant_topic = df_topic_sents_keywords.reset_index()\n",
        "df_dominant_topic.columns = ['문서번호', '주요토픽', '토픽 기여도', '키워드', '토큰']\n",
        "df_dominant_topic"
      ],
      "execution_count": null,
      "outputs": [
        {
          "output_type": "execute_result",
          "data": {
            "text/html": [
              "<div>\n",
              "<style scoped>\n",
              "    .dataframe tbody tr th:only-of-type {\n",
              "        vertical-align: middle;\n",
              "    }\n",
              "\n",
              "    .dataframe tbody tr th {\n",
              "        vertical-align: top;\n",
              "    }\n",
              "\n",
              "    .dataframe thead th {\n",
              "        text-align: right;\n",
              "    }\n",
              "</style>\n",
              "<table border=\"1\" class=\"dataframe\">\n",
              "  <thead>\n",
              "    <tr style=\"text-align: right;\">\n",
              "      <th></th>\n",
              "      <th>문서번호</th>\n",
              "      <th>주요토픽</th>\n",
              "      <th>토픽 기여도</th>\n",
              "      <th>키워드</th>\n",
              "      <th>토큰</th>\n",
              "    </tr>\n",
              "  </thead>\n",
              "  <tbody>\n",
              "    <tr>\n",
              "      <th>0</th>\n",
              "      <td>0</td>\n",
              "      <td>0.0</td>\n",
              "      <td>0.9949</td>\n",
              "      <td>년, 소설, 작가, 수, 작품, 이야기, 채식주의자, 인간, 월, 소년</td>\n",
              "      <td>[감수, 문장, 인간, 존재, 본질, 탐구, 작가, 여섯, 번, 장편, 소설, 소년...</td>\n",
              "    </tr>\n",
              "    <tr>\n",
              "      <th>1</th>\n",
              "      <td>1</td>\n",
              "      <td>0.0</td>\n",
              "      <td>0.9947</td>\n",
              "      <td>년, 소설, 작가, 수, 작품, 이야기, 채식주의자, 인간, 월, 소년</td>\n",
              "      <td>[무엇, 생각, 수, 가슴, 불, 네, 이곳, 이, 이곳, 이, 꿈, 사랑, 기억,...</td>\n",
              "    </tr>\n",
              "    <tr>\n",
              "      <th>2</th>\n",
              "      <td>2</td>\n",
              "      <td>0.0</td>\n",
              "      <td>0.9960</td>\n",
              "      <td>년, 소설, 작가, 수, 작품, 이야기, 채식주의자, 인간, 월, 소년</td>\n",
              "      <td>[년, 전, 봄, 작가, 여자, 베란다, 식물, 남자, 그녀, 화분, 이야기, 내,...</td>\n",
              "    </tr>\n",
              "    <tr>\n",
              "      <th>3</th>\n",
              "      <td>3</td>\n",
              "      <td>1.0</td>\n",
              "      <td>0.9942</td>\n",
              "      <td>이야기, 나, 년, 것, 그녀, 소설, 작가, 부커, 권, 목록</td>\n",
              "      <td>[수, 것, 이야기, 한국인, 최초, 부커, 수상, 작가, 소설, 년, 부커, 인터...</td>\n",
              "    </tr>\n",
              "  </tbody>\n",
              "</table>\n",
              "</div>"
            ],
            "text/plain": [
              "   문서번호  ...                                                 토큰\n",
              "0     0  ...  [감수, 문장, 인간, 존재, 본질, 탐구, 작가, 여섯, 번, 장편, 소설, 소년...\n",
              "1     1  ...  [무엇, 생각, 수, 가슴, 불, 네, 이곳, 이, 이곳, 이, 꿈, 사랑, 기억,...\n",
              "2     2  ...  [년, 전, 봄, 작가, 여자, 베란다, 식물, 남자, 그녀, 화분, 이야기, 내,...\n",
              "3     3  ...  [수, 것, 이야기, 한국인, 최초, 부커, 수상, 작가, 소설, 년, 부커, 인터...\n",
              "\n",
              "[4 rows x 5 columns]"
            ]
          },
          "metadata": {},
          "execution_count": 154
        }
      ]
    },
    {
      "cell_type": "markdown",
      "metadata": {
        "id": "c9273cdy5W9x"
      },
      "source": [
        "4.3. 토픽별 키워드 탐색"
      ]
    },
    {
      "cell_type": "markdown",
      "metadata": {
        "id": "so-rQ9Ex5Zqw"
      },
      "source": [
        "토픽별 키워드를 탐색해보면 토픽 번호 1인 '채식주의자'는 채식주의자, 식물, 나무, 영혜와 같은 단어가 보인다."
      ]
    },
    {
      "cell_type": "code",
      "metadata": {
        "colab": {
          "base_uri": "https://localhost:8080/",
          "height": 161
        },
        "id": "QdEY6wfeRBgf",
        "outputId": "d3ffcbd8-f9b1-4689-a5c0-100186b0a4a1"
      },
      "source": [
        "pd.options.display.max_colwidth = 50\n",
        "\n",
        "sent_topics_sorteddf_mallet = pd.DataFrame()\n",
        "sent_topics_outdf_grpd = df_topic_sents_keywords.groupby('주요토픽')\n",
        "\n",
        "for i, grp in sent_topics_outdf_grpd:\n",
        "    sent_topics_sorteddf_mallet = pd.concat([sent_topics_sorteddf_mallet, \n",
        "                                             grp.sort_values(['토픽 기여도'], ascending=False).head(1)], \n",
        "                                            axis=0)\n",
        "  \n",
        "sent_topics_sorteddf_mallet.reset_index(drop=True, inplace=True)\n",
        "\n",
        "sent_topics_sorteddf_mallet.columns = ['토픽번호', \"토픽 기여도\", \"키워드\", \"관련 토큰\"]\n",
        "\n",
        "sent_topics_sorteddf_mallet.head(10)"
      ],
      "execution_count": null,
      "outputs": [
        {
          "output_type": "execute_result",
          "data": {
            "text/html": [
              "<div>\n",
              "<style scoped>\n",
              "    .dataframe tbody tr th:only-of-type {\n",
              "        vertical-align: middle;\n",
              "    }\n",
              "\n",
              "    .dataframe tbody tr th {\n",
              "        vertical-align: top;\n",
              "    }\n",
              "\n",
              "    .dataframe thead th {\n",
              "        text-align: right;\n",
              "    }\n",
              "</style>\n",
              "<table border=\"1\" class=\"dataframe\">\n",
              "  <thead>\n",
              "    <tr style=\"text-align: right;\">\n",
              "      <th></th>\n",
              "      <th>토픽번호</th>\n",
              "      <th>토픽 기여도</th>\n",
              "      <th>키워드</th>\n",
              "      <th>관련 토큰</th>\n",
              "    </tr>\n",
              "  </thead>\n",
              "  <tbody>\n",
              "    <tr>\n",
              "      <th>0</th>\n",
              "      <td>0.0</td>\n",
              "      <td>0.9960</td>\n",
              "      <td>년, 소설, 작가, 수, 작품, 이야기, 채식주의자, 인간, 월, 소년</td>\n",
              "      <td>[년, 전, 봄, 작가, 여자, 베란다, 식물, 남자, 그녀, 화분, 이야기, 내,...</td>\n",
              "    </tr>\n",
              "    <tr>\n",
              "      <th>1</th>\n",
              "      <td>1.0</td>\n",
              "      <td>0.9942</td>\n",
              "      <td>이야기, 나, 년, 것, 그녀, 소설, 작가, 부커, 권, 목록</td>\n",
              "      <td>[수, 것, 이야기, 한국인, 최초, 부커, 수상, 작가, 소설, 년, 부커, 인터...</td>\n",
              "    </tr>\n",
              "  </tbody>\n",
              "</table>\n",
              "</div>"
            ],
            "text/plain": [
              "   토픽번호  ...                                              관련 토큰\n",
              "0   0.0  ...  [년, 전, 봄, 작가, 여자, 베란다, 식물, 남자, 그녀, 화분, 이야기, 내,...\n",
              "1   1.0  ...  [수, 것, 이야기, 한국인, 최초, 부커, 수상, 작가, 소설, 년, 부커, 인터...\n",
              "\n",
              "[2 rows x 4 columns]"
            ]
          },
          "metadata": {},
          "execution_count": 155
        }
      ]
    },
    {
      "cell_type": "markdown",
      "metadata": {
        "id": "RX5t4n1GJNKP"
      },
      "source": [
        "# **5. 워드클라우드로 시각화**"
      ]
    },
    {
      "cell_type": "markdown",
      "metadata": {
        "id": "cdMqquPg5qo4"
      },
      "source": [
        "토픽 별 기여도에 따라 워드클라우드로 시각화한다."
      ]
    },
    {
      "cell_type": "code",
      "metadata": {
        "colab": {
          "base_uri": "https://localhost:8080/",
          "height": 297
        },
        "id": "ZIhbP8GJRFtO",
        "outputId": "ca983f14-1644-4947-d90c-3fbf93700aa5"
      },
      "source": [
        "from matplotlib import pyplot as plt\n",
        "from wordcloud import WordCloud, STOPWORDS\n",
        "import matplotlib.colors as mcolors\n",
        "\n",
        "cols = [color for name, color in mcolors.TABLEAU_COLORS.items()] \n",
        "fontpath = '/usr/share/fonts/truetype/nanum/NanumBarunGothic.ttf'\n",
        "cloud = WordCloud(background_color='white',\n",
        "                  font_path=fontpath,\n",
        "                  width=2500,\n",
        "                  height=1800,\n",
        "                  max_words=10,\n",
        "                  colormap='tab10',\n",
        "                  color_func=lambda *args, **kwargs: cols[i],\n",
        "                  prefer_horizontal=1.0)\n",
        "\n",
        "topics = ldamodel.show_topics(formatted=False)\n",
        "\n",
        "fig, axes = plt.subplots(1, 2, figsize=(10,10), sharex=True, sharey=True)\n",
        "\n",
        "for i, ax in enumerate(axes.flatten()):\n",
        "    fig.add_subplot(ax)\n",
        "    topic_words = dict(topics[i][1])\n",
        "    cloud.generate_from_frequencies(topic_words, max_font_size=300)\n",
        "    plt.gca().imshow(cloud)\n",
        "    plt.gca().set_title('Topic ' + str(i), fontdict=dict(size=16))\n",
        "    plt.gca().axis('off')\n",
        "\n",
        "\n",
        "plt.subplots_adjust(wspace=0, hspace=0)\n",
        "plt.axis('off')\n",
        "plt.margins(x=0, y=0)\n",
        "plt.tight_layout()\n",
        "plt.show()"
      ],
      "execution_count": null,
      "outputs": [
        {
          "output_type": "display_data",
          "data": {
            "image/png": "[encoded data removed]",
            "text/plain": [
              "<Figure size 720x720 with 2 Axes>"
            ]
          },
          "metadata": {
            "needs_background": "light"
          }
        }
      ]
    }
  ]
}