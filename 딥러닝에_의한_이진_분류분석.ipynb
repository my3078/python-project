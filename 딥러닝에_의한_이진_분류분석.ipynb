{
  "nbformat": 4,
  "nbformat_minor": 0,
  "metadata": {
    "colab": {
      "name": "딥러닝에 의한 이진 분류분석.ipynb",
      "provenance": [],
      "collapsed_sections": []
    },
    "kernelspec": {
      "name": "python3",
      "display_name": "Python 3"
    },
    "language_info": {
      "name": "python"
    }
  },
  "cells": [
    {
      "cell_type": "markdown",
      "metadata": {
        "id": "c22Pbf2XoA0H"
      },
      "source": [
        "# **딥러닝에 의한 이진 분류분석 사례**"
      ]
    },
    {
      "cell_type": "markdown",
      "metadata": {
        "id": "jHwLlW2-nGGX"
      },
      "source": [
        "# 0. 필요한 라이브러리 설치"
      ]
    },
    {
      "cell_type": "markdown",
      "metadata": {
        "id": "7QIG9HE4oILU"
      },
      "source": [
        " 분석을 진행하기 전에 필요한 라이브러리를 먼저 설치한다."
      ]
    },
    {
      "cell_type": "code",
      "metadata": {
        "id": "5zp02p7uqP55"
      },
      "source": [
        "import tensorflow as tf\n",
        "from tensorflow import keras\n",
        "import numpy as np\n",
        "import pandas as pd\n",
        "import matplotlib.pyplot as plt\n",
        "from sklearn.model_selection import train_test_split"
      ],
      "execution_count": null,
      "outputs": []
    },
    {
      "cell_type": "markdown",
      "metadata": {
        "id": "FnMTTwwbm9LJ"
      },
      "source": [
        "# 1. 데이터 준비"
      ]
    },
    {
      "cell_type": "markdown",
      "metadata": {
        "id": "Qh8F7o3p8taQ"
      },
      "source": [
        "드라이브에 저장된 데이터 파일을 사용하기 위해 드라이브를 마운트한다."
      ]
    },
    {
      "cell_type": "code",
      "metadata": {
        "colab": {
          "base_uri": "https://localhost:8080/"
        },
        "id": "27a3aJqkqT8z",
        "outputId": "86dd3ef3-79d1-47e3-95b2-3b5b38af8158"
      },
      "source": [
        "from google.colab import drive\n",
        "drive.mount('/content/drive')"
      ],
      "execution_count": null,
      "outputs": [
        {
          "output_type": "stream",
          "name": "stdout",
          "text": [
            "Mounted at /content/drive\n"
          ]
        }
      ]
    },
    {
      "cell_type": "markdown",
      "metadata": {
        "id": "IV8e2n3b-_hi"
      },
      "source": [
        "해당 데이터 파일을 df라는 객체로 저장하고, 각 열의 이름을 y, x1, x2로 주어 데이터 프레임 형태로 만든다."
      ]
    },
    {
      "cell_type": "code",
      "metadata": {
        "colab": {
          "base_uri": "https://localhost:8080/",
          "height": 417
        },
        "id": "BY3VHJhsqV_S",
        "outputId": "09a08303-6158-471c-b904-18f4cab56a4d"
      },
      "source": [
        "data = '/content/drive/MyDrive/감성공학/result.txt'\n",
        "df = pd.read_csv(data, sep=',' )\n",
        "df.columns = [\"y\", 'x1', 'x2']\n",
        "df"
      ],
      "execution_count": null,
      "outputs": [
        {
          "output_type": "execute_result",
          "data": {
            "text/html": [
              "<div>\n",
              "<style scoped>\n",
              "    .dataframe tbody tr th:only-of-type {\n",
              "        vertical-align: middle;\n",
              "    }\n",
              "\n",
              "    .dataframe tbody tr th {\n",
              "        vertical-align: top;\n",
              "    }\n",
              "\n",
              "    .dataframe thead th {\n",
              "        text-align: right;\n",
              "    }\n",
              "</style>\n",
              "<table border=\"1\" class=\"dataframe\">\n",
              "  <thead>\n",
              "    <tr style=\"text-align: right;\">\n",
              "      <th></th>\n",
              "      <th>y</th>\n",
              "      <th>x1</th>\n",
              "      <th>x2</th>\n",
              "    </tr>\n",
              "  </thead>\n",
              "  <tbody>\n",
              "    <tr>\n",
              "      <th>0</th>\n",
              "      <td>0</td>\n",
              "      <td>380</td>\n",
              "      <td>3.61</td>\n",
              "    </tr>\n",
              "    <tr>\n",
              "      <th>1</th>\n",
              "      <td>1</td>\n",
              "      <td>660</td>\n",
              "      <td>3.67</td>\n",
              "    </tr>\n",
              "    <tr>\n",
              "      <th>2</th>\n",
              "      <td>1</td>\n",
              "      <td>800</td>\n",
              "      <td>4.00</td>\n",
              "    </tr>\n",
              "    <tr>\n",
              "      <th>3</th>\n",
              "      <td>1</td>\n",
              "      <td>640</td>\n",
              "      <td>3.19</td>\n",
              "    </tr>\n",
              "    <tr>\n",
              "      <th>4</th>\n",
              "      <td>0</td>\n",
              "      <td>520</td>\n",
              "      <td>2.93</td>\n",
              "    </tr>\n",
              "    <tr>\n",
              "      <th>...</th>\n",
              "      <td>...</td>\n",
              "      <td>...</td>\n",
              "      <td>...</td>\n",
              "    </tr>\n",
              "    <tr>\n",
              "      <th>395</th>\n",
              "      <td>1</td>\n",
              "      <td>620</td>\n",
              "      <td>4.00</td>\n",
              "    </tr>\n",
              "    <tr>\n",
              "      <th>396</th>\n",
              "      <td>1</td>\n",
              "      <td>560</td>\n",
              "      <td>3.04</td>\n",
              "    </tr>\n",
              "    <tr>\n",
              "      <th>397</th>\n",
              "      <td>0</td>\n",
              "      <td>460</td>\n",
              "      <td>2.63</td>\n",
              "    </tr>\n",
              "    <tr>\n",
              "      <th>398</th>\n",
              "      <td>1</td>\n",
              "      <td>700</td>\n",
              "      <td>3.65</td>\n",
              "    </tr>\n",
              "    <tr>\n",
              "      <th>399</th>\n",
              "      <td>1</td>\n",
              "      <td>600</td>\n",
              "      <td>3.89</td>\n",
              "    </tr>\n",
              "  </tbody>\n",
              "</table>\n",
              "<p>400 rows × 3 columns</p>\n",
              "</div>"
            ],
            "text/plain": [
              "     y   x1    x2\n",
              "0    0  380  3.61\n",
              "1    1  660  3.67\n",
              "2    1  800  4.00\n",
              "3    1  640  3.19\n",
              "4    0  520  2.93\n",
              "..  ..  ...   ...\n",
              "395  1  620  4.00\n",
              "396  1  560  3.04\n",
              "397  0  460  2.63\n",
              "398  1  700  3.65\n",
              "399  1  600  3.89\n",
              "\n",
              "[400 rows x 3 columns]"
            ]
          },
          "metadata": {},
          "execution_count": 3
        }
      ]
    },
    {
      "cell_type": "markdown",
      "metadata": {
        "id": "C2JhCkLG_i5N"
      },
      "source": [
        "y는 0과 1로 이루어진 피처로 데이터 파악을 위해 value_count()로 value들을 세준다. 1은 287개, 0은 113개로 이루어져 있다."
      ]
    },
    {
      "cell_type": "code",
      "metadata": {
        "colab": {
          "base_uri": "https://localhost:8080/"
        },
        "id": "9dPYZO-cqYO9",
        "outputId": "a4eb44a7-f4f5-48ce-f4cd-c8a626cf9f2e"
      },
      "source": [
        "df['y'].value_counts()"
      ],
      "execution_count": null,
      "outputs": [
        {
          "output_type": "execute_result",
          "data": {
            "text/plain": [
              "1    287\n",
              "0    113\n",
              "Name: y, dtype: int64"
            ]
          },
          "metadata": {},
          "execution_count": 4
        }
      ]
    },
    {
      "cell_type": "markdown",
      "metadata": {
        "id": "CN3OkC6IEk0-"
      },
      "source": [
        "x축을 df의 x1, y축을 df의 x2로 하는 y의 위치를 파악할 수 있는 산포그래프를 그린다. 0은 빨강, 1은 파랑으로 나타내면 0은 주로 왼쪽 아래, 1은 오른쪽 위에 분포한다."
      ]
    },
    {
      "cell_type": "code",
      "metadata": {
        "colab": {
          "base_uri": "https://localhost:8080/",
          "height": 265
        },
        "id": "5Ksr1V8PqaGv",
        "outputId": "3065ca69-2bdb-48b4-b8b8-46083bac9343"
      },
      "source": [
        "fig, ax = plt.subplots()\n",
        "colors = {0:'red', 1:'blue'}\n",
        "ax.scatter(df['x1'], df['x2'], c=df['y'].map(colors))\n",
        "plt.show()"
      ],
      "execution_count": null,
      "outputs": [
        {
          "output_type": "display_data",
          "data": {
            "image/png": "[encoded data removed]",
            "text/plain": [
              "<Figure size 432x288 with 1 Axes>"
            ]
          },
          "metadata": {
            "needs_background": "light"
          }
        }
      ]
    },
    {
      "cell_type": "markdown",
      "metadata": {
        "id": "VUKdxg7s3MSe"
      },
      "source": [
        "데이터 준비 및 탐색이 끝난 후 데이터를 train 데이터셋, validation 데이터셋, test 데이터셋 세가지로 나눈다. 총 400개의 데이터 중 test데이터셋과 validation 데이터셋을 각각 80개로 사용한다. "
      ]
    },
    {
      "cell_type": "code",
      "metadata": {
        "colab": {
          "base_uri": "https://localhost:8080/"
        },
        "id": "NLP2mQqmqdxk",
        "outputId": "8e45c566-3ea0-4ecc-f1d8-ca41ec69b7e0"
      },
      "source": [
        "n = 400\n",
        "ts = 80\n",
        "vs =80\n",
        "print(n,ts,vs)"
      ],
      "execution_count": null,
      "outputs": [
        {
          "output_type": "stream",
          "name": "stdout",
          "text": [
            "400 80 80\n"
          ]
        }
      ]
    },
    {
      "cell_type": "markdown",
      "metadata": {
        "id": "Xts5Qghu5Byn"
      },
      "source": [
        "사이킷런의 train_test_split 모듈을 사용하여 데이터를 나눈다. test_size는 테스트 데이터셋의 갯수를 의미하고, random_state는 데이터를 분할할 때 난수를 지정하여 셔플하는 횟수를 의미한다.\n"
      ]
    },
    {
      "cell_type": "markdown",
      "metadata": {
        "id": "rqFINHrT73Li"
      },
      "source": [
        "train_test_split을 사용하여 위에서 정의한대로 test데이터셋과 validation데이터셋은 각각 80개로 지정하고 random_state는 100회를 지정한다. train데이터셋은 400개 중 160개를 뺀 240개임을 확인한다."
      ]
    },
    {
      "cell_type": "code",
      "metadata": {
        "colab": {
          "base_uri": "https://localhost:8080/"
        },
        "id": "PVXh860i9UcR",
        "outputId": "97d67bf6-2b77-4bd1-9c9d-1c5128194df8"
      },
      "source": [
        "train_df, test_df = train_test_split(df, test_size=ts,random_state=100)\n",
        "train_df, val_df = train_test_split(train_df, test_size=vs,random_state=100)\n",
        "len(train_df)"
      ],
      "execution_count": null,
      "outputs": [
        {
          "output_type": "execute_result",
          "data": {
            "text/plain": [
              "240"
            ]
          },
          "metadata": {},
          "execution_count": 7
        }
      ]
    },
    {
      "cell_type": "markdown",
      "metadata": {
        "id": "CN2cvgTm8Ss4"
      },
      "source": [
        "train데이터셋의 y열을 히스토그램으로 확인한 결과 0은 약 70개, 1은 약 170개인 것을 확인할 수 있다."
      ]
    },
    {
      "cell_type": "code",
      "metadata": {
        "colab": {
          "base_uri": "https://localhost:8080/",
          "height": 282
        },
        "id": "uhu-CvK59wq_",
        "outputId": "8d765c8b-616a-48ea-cee4-abc207e2493f"
      },
      "source": [
        "train_df['y'].hist()"
      ],
      "execution_count": null,
      "outputs": [
        {
          "output_type": "execute_result",
          "data": {
            "text/plain": [
              "<matplotlib.axes._subplots.AxesSubplot at 0x7f5432bbdd50>"
            ]
          },
          "metadata": {},
          "execution_count": 8
        },
        {
          "output_type": "display_data",
          "data": {
            "image/png": "[encoded data removed]",
            "text/plain": [
              "<Figure size 432x288 with 1 Axes>"
            ]
          },
          "metadata": {
            "needs_background": "light"
          }
        }
      ]
    },
    {
      "cell_type": "markdown",
      "metadata": {
        "id": "YzO-R8NenYGb"
      },
      "source": [
        "# 2. 모델링"
      ]
    },
    {
      "cell_type": "markdown",
      "metadata": {
        "id": "imjP4qLD9gSb"
      },
      "source": [
        "pop함수는 특정 레이블을 뽑아낼 때 유용한 함수로 train_df(훈련용 데이터셋)에서 y를 뽑아내 y_train으로 두고 나머지는 x_train으로 둔다. test_df(테스트용 데이터셋)과 val_df(검증용 데이터셋) 역시 같은 방법으로 y를 뽑아낸다."
      ]
    },
    {
      "cell_type": "code",
      "metadata": {
        "id": "ST2N23cA-Fjm"
      },
      "source": [
        "y_train = train_df.pop('y')\n",
        "x_train = train_df\n",
        "y_test = test_df.pop('y')\n",
        "x_test = test_df\n",
        "y_val = val_df.pop('y')\n",
        "x_val = val_df"
      ],
      "execution_count": null,
      "outputs": []
    },
    {
      "cell_type": "markdown",
      "metadata": {
        "id": "nyovdpg5-20b"
      },
      "source": [
        "pop함수를 사용한 후 만들어진 x_train을 확인하면 train_df에서 y가 빠진 모습인 것을 확인할 수 있다."
      ]
    },
    {
      "cell_type": "code",
      "metadata": {
        "colab": {
          "base_uri": "https://localhost:8080/",
          "height": 417
        },
        "id": "f_vn7e-_-X8q",
        "outputId": "7aedaba4-9833-495e-aadc-b457323caab8"
      },
      "source": [
        "x_train"
      ],
      "execution_count": null,
      "outputs": [
        {
          "output_type": "execute_result",
          "data": {
            "text/html": [
              "<div>\n",
              "<style scoped>\n",
              "    .dataframe tbody tr th:only-of-type {\n",
              "        vertical-align: middle;\n",
              "    }\n",
              "\n",
              "    .dataframe tbody tr th {\n",
              "        vertical-align: top;\n",
              "    }\n",
              "\n",
              "    .dataframe thead th {\n",
              "        text-align: right;\n",
              "    }\n",
              "</style>\n",
              "<table border=\"1\" class=\"dataframe\">\n",
              "  <thead>\n",
              "    <tr style=\"text-align: right;\">\n",
              "      <th></th>\n",
              "      <th>x1</th>\n",
              "      <th>x2</th>\n",
              "    </tr>\n",
              "  </thead>\n",
              "  <tbody>\n",
              "    <tr>\n",
              "      <th>6</th>\n",
              "      <td>560</td>\n",
              "      <td>2.98</td>\n",
              "    </tr>\n",
              "    <tr>\n",
              "      <th>251</th>\n",
              "      <td>620</td>\n",
              "      <td>3.21</td>\n",
              "    </tr>\n",
              "    <tr>\n",
              "      <th>45</th>\n",
              "      <td>460</td>\n",
              "      <td>3.45</td>\n",
              "    </tr>\n",
              "    <tr>\n",
              "      <th>254</th>\n",
              "      <td>740</td>\n",
              "      <td>3.52</td>\n",
              "    </tr>\n",
              "    <tr>\n",
              "      <th>182</th>\n",
              "      <td>700</td>\n",
              "      <td>4.00</td>\n",
              "    </tr>\n",
              "    <tr>\n",
              "      <th>...</th>\n",
              "      <td>...</td>\n",
              "      <td>...</td>\n",
              "    </tr>\n",
              "    <tr>\n",
              "      <th>65</th>\n",
              "      <td>600</td>\n",
              "      <td>3.59</td>\n",
              "    </tr>\n",
              "    <tr>\n",
              "      <th>132</th>\n",
              "      <td>580</td>\n",
              "      <td>3.40</td>\n",
              "    </tr>\n",
              "    <tr>\n",
              "      <th>321</th>\n",
              "      <td>460</td>\n",
              "      <td>3.58</td>\n",
              "    </tr>\n",
              "    <tr>\n",
              "      <th>336</th>\n",
              "      <td>520</td>\n",
              "      <td>3.15</td>\n",
              "    </tr>\n",
              "    <tr>\n",
              "      <th>197</th>\n",
              "      <td>400</td>\n",
              "      <td>3.23</td>\n",
              "    </tr>\n",
              "  </tbody>\n",
              "</table>\n",
              "<p>240 rows × 2 columns</p>\n",
              "</div>"
            ],
            "text/plain": [
              "      x1    x2\n",
              "6    560  2.98\n",
              "251  620  3.21\n",
              "45   460  3.45\n",
              "254  740  3.52\n",
              "182  700  4.00\n",
              "..   ...   ...\n",
              "65   600  3.59\n",
              "132  580  3.40\n",
              "321  460  3.58\n",
              "336  520  3.15\n",
              "197  400  3.23\n",
              "\n",
              "[240 rows x 2 columns]"
            ]
          },
          "metadata": {},
          "execution_count": 10
        }
      ]
    },
    {
      "cell_type": "markdown",
      "metadata": {
        "id": "nFdqL-J4_BpS"
      },
      "source": [
        "np.array 함수를 사용하여 train_df을 배열로 만들고, shape 함수로 배열의 형태를 확인한다. "
      ]
    },
    {
      "cell_type": "code",
      "metadata": {
        "colab": {
          "base_uri": "https://localhost:8080/"
        },
        "id": "M0r4Lmvs-lQQ",
        "outputId": "61f1b15c-23d6-437a-c949-2f632d2db999"
      },
      "source": [
        "train_features = np.array(train_df)\n",
        "print(np.shape(train_features))"
      ],
      "execution_count": null,
      "outputs": [
        {
          "output_type": "stream",
          "name": "stdout",
          "text": [
            "(240, 2)\n"
          ]
        }
      ]
    },
    {
      "cell_type": "markdown",
      "metadata": {
        "id": "FChp0gn2jV7f"
      },
      "source": [
        "본격적인 모델링 과정으로 케라스 sequential 모델을 만들어준다. 코드 설명에 앞서 설명을 하자면 순차적 모델은 순차적으로 레이어를 더하는 모델이다. 각 레이어는 add()로 사용할 수 있는데 출력 뉴런의 수를 설정해주고 활성화 함수도 설정할 수 있다. 활성화 함수에는 sigmoid, tanh, relu 등이 있는데 여기서는 sigmoid와 relu만 설명하고 넘어가겠다.\n",
        "sigmoid 함수는 결과를 0과 1 사이로 만들어주기 때문에 이진 분류 문제에서 주로 쓰이고 relu함수는 학습이 빠르게 잘 되어서 잘 쓰이는 함수다."
      ]
    },
    {
      "cell_type": "markdown",
      "metadata": {
        "id": "GtG8Hj9hBzPi"
      },
      "source": [
        "첫번째 레이어의 출력 뉴런은 16, 활성화 함수는 relu로 설정하고 첫 번째 레이어에는 input_shape로 입력값의 형태를 정한다. 두번째 레이어 또한 출력 뉴런 갯수 16개, 활성화 함수 relu로 설정한다. 다음은 과적합을 줄일 수 있는 dropout을 설정할 수 있다. 그 다음 레이어는 출력 뉴런수 1, 활성화함수 sigmoid로 설정한다. \n",
        "\n",
        "모델 구성을 마친 후 훈련을 시켜준다. optimizer, loss, metrics를 지정해줄 수 있는데 optimizer(최적화함수)은 손실함수의 결과값을 최소화하는 모델의 가중치를 찾는다. 최적화 함수 중 adm은 최적화함수 momentum과 RMSProp를 병합한 것으로 가장 많이 쓰이는 것이다. 다음 loss(손실함수)는 모델이 훈련 중에 최소화하려는 양을 계산하는 것이다. binary_crossentropy는 이진분류 문제, 즉 0과 1의 값을 가질 때 사용한다. metrics는 측정항목으로 정확도를 사용한다.\n",
        "\n"
      ]
    },
    {
      "cell_type": "code",
      "metadata": {
        "id": "rqWqK1bB_psK"
      },
      "source": [
        "model = keras.models.Sequential()\n",
        "model.add(keras.layers.Dense(16, activation='relu', \n",
        "                             input_shape=(train_features.shape[-1],)))\n",
        "model.add(keras.layers.Dense(16, activation='relu'))\n",
        "model.add(keras.layers.Dropout(0.5))  \n",
        "model.add(keras.layers.Dense(1, activation='sigmoid'))\n",
        "\n",
        "model.compile(optimizer='adam',\n",
        "              loss='binary_crossentropy',\n",
        "              metrics=['accuracy'])"
      ],
      "execution_count": null,
      "outputs": []
    },
    {
      "cell_type": "markdown",
      "metadata": {
        "id": "aOkdDa3tqlm6"
      },
      "source": [
        "구현한 모델을 요약한 결과다."
      ]
    },
    {
      "cell_type": "code",
      "metadata": {
        "colab": {
          "base_uri": "https://localhost:8080/"
        },
        "id": "2bv6rUm0_xGM",
        "outputId": "d8f298e4-d9e4-4888-e5a4-f5363145511f"
      },
      "source": [
        "model.summary()"
      ],
      "execution_count": null,
      "outputs": [
        {
          "output_type": "stream",
          "name": "stdout",
          "text": [
            "Model: \"sequential_1\"\n",
            "_________________________________________________________________\n",
            " Layer (type)                Output Shape              Param #   \n",
            "=================================================================\n",
            " dense_1 (Dense)             (None, 16)                48        \n",
            "                                                                 \n",
            " dense_2 (Dense)             (None, 16)                272       \n",
            "                                                                 \n",
            " dropout (Dropout)           (None, 16)                0         \n",
            "                                                                 \n",
            " dense_3 (Dense)             (None, 1)                 17        \n",
            "                                                                 \n",
            "=================================================================\n",
            "Total params: 337\n",
            "Trainable params: 337\n",
            "Non-trainable params: 0\n",
            "_________________________________________________________________\n"
          ]
        }
      ]
    },
    {
      "cell_type": "markdown",
      "metadata": {
        "id": "qC10daaWqyj1"
      },
      "source": [
        "순차 모델을 시각화하면 다음과 같다. "
      ]
    },
    {
      "cell_type": "code",
      "metadata": {
        "colab": {
          "base_uri": "https://localhost:8080/",
          "height": 533
        },
        "id": "3oSQaW-W_z1i",
        "outputId": "1189dd69-7e86-4bce-ebdd-d17562d10739"
      },
      "source": [
        "tf.keras.utils.plot_model(model, 'model.png', show_shapes = True)"
      ],
      "execution_count": null,
      "outputs": [
        {
          "output_type": "execute_result",
          "data": {
            "image/png": "[encoded data removed]",
            "text/plain": [
              "<IPython.core.display.Image object>"
            ]
          },
          "metadata": {},
          "execution_count": 23
        }
      ]
    },
    {
      "cell_type": "markdown",
      "metadata": {
        "id": "BOZ977-Bneik"
      },
      "source": [
        "# 3. Training"
      ]
    },
    {
      "cell_type": "markdown",
      "metadata": {
        "id": "_tiH1KL_q6ag"
      },
      "source": [
        "케라스 콜백함수는 모델을 일정 간격으로 저장하여 나중에 저장된 상태에서 훈련을 계속 할 수 있도록 한다. \n",
        "\n",
        "모델의 파일명은 'model.hdf5'로 한다. monitor인자는 모델을 저장할 때 기준이 되는 값으로 validation 데이터셋의 정확도가 가장 높을 때 저장된다. 다음 verbose인자가 1일 때는 모델이 저장될 때 안내문이 화면에 표시된다. 그리고, save_best_only를 True로 설정하여 monitor값이 가장 좋을 때 저장되도록 한다. mode인자는 정확도가 클수록 좋으므로 max로 설정해준다. 다음 save_freq 인자는 epoch으로 설정하여 매 에폭마다 모델이 저장되도록 한다. 마지막 save_weights_only는 모델의 weights만 저장되도록 True로 설정한다."
      ]
    },
    {
      "cell_type": "code",
      "metadata": {
        "id": "Z7R45vqS_7jl"
      },
      "source": [
        "save_weights = tf.keras.callbacks.ModelCheckpoint(\"model.hdf5\",\n",
        "                                                  monitor='val_accuracy',\n",
        "                                                  verbose=1,\n",
        "                                                  save_best_only=True,\n",
        "                                                  mode=\"max\",\n",
        "                                                  save_freq=\"epoch\",\n",
        "                                                  save_weights_only=True)"
      ],
      "execution_count": null,
      "outputs": []
    },
    {
      "cell_type": "markdown",
      "metadata": {
        "id": "kLjNYk7KwLzG"
      },
      "source": [
        "fit함수로 모델을 학습시킨다. 에폭수는 40번으로 설정하여 데이터를 40번 사용해서 학습을 거치는 것이다. batch_size는 데이터를 여러 작은 그룹으로 나누어 하나의 그룹에 속하는 데이터수로 200으로 설정하여 학습한다."
      ]
    },
    {
      "cell_type": "code",
      "metadata": {
        "colab": {
          "base_uri": "https://localhost:8080/"
        },
        "id": "YxOjVEyqAA6l",
        "outputId": "061b313f-958a-4eaf-a9c6-83fef643a7f8"
      },
      "source": [
        "history = model.fit(x_train, y_train, validation_data=(x_val, y_val) ,\n",
        "                    epochs=40, \n",
        "                    batch_size=200,\n",
        "                    callbacks=[save_weights])"
      ],
      "execution_count": null,
      "outputs": [
        {
          "output_type": "stream",
          "name": "stdout",
          "text": [
            "Epoch 1/40\n",
            "1/2 [==============>...............] - ETA: 0s - loss: 92.7713 - accuracy: 0.4850\n",
            "Epoch 00001: val_accuracy improved from -inf to 0.62500, saving model to model.hdf5\n",
            "2/2 [==============================] - 1s 206ms/step - loss: 87.2761 - accuracy: 0.5042 - val_loss: 1.3020 - val_accuracy: 0.6250\n",
            "Epoch 2/40\n",
            "1/2 [==============>...............] - ETA: 0s - loss: 91.5287 - accuracy: 0.5150\n",
            "Epoch 00002: val_accuracy did not improve from 0.62500\n",
            "2/2 [==============================] - 0s 26ms/step - loss: 89.9486 - accuracy: 0.5083 - val_loss: 4.4544 - val_accuracy: 0.6250\n",
            "Epoch 3/40\n",
            "1/2 [==============>...............] - ETA: 0s - loss: 80.0393 - accuracy: 0.5050\n",
            "Epoch 00003: val_accuracy did not improve from 0.62500\n",
            "2/2 [==============================] - 0s 28ms/step - loss: 79.4618 - accuracy: 0.5042 - val_loss: 7.5712 - val_accuracy: 0.6250\n",
            "Epoch 4/40\n",
            "1/2 [==============>...............] - ETA: 0s - loss: 62.8895 - accuracy: 0.5800\n",
            "Epoch 00004: val_accuracy did not improve from 0.62500\n",
            "2/2 [==============================] - 0s 25ms/step - loss: 67.0985 - accuracy: 0.5625 - val_loss: 10.8075 - val_accuracy: 0.6250\n",
            "Epoch 5/40\n",
            "1/2 [==============>...............] - ETA: 0s - loss: 72.1102 - accuracy: 0.5050\n",
            "Epoch 00005: val_accuracy did not improve from 0.62500\n",
            "2/2 [==============================] - 0s 23ms/step - loss: 67.2798 - accuracy: 0.5208 - val_loss: 13.9052 - val_accuracy: 0.6250\n",
            "Epoch 6/40\n",
            "1/2 [==============>...............] - ETA: 0s - loss: 76.1550 - accuracy: 0.4900\n",
            "Epoch 00006: val_accuracy did not improve from 0.62500\n",
            "2/2 [==============================] - 0s 30ms/step - loss: 78.1679 - accuracy: 0.4833 - val_loss: 16.8151 - val_accuracy: 0.6250\n",
            "Epoch 7/40\n",
            "1/2 [==============>...............] - ETA: 0s - loss: 69.9667 - accuracy: 0.4850\n",
            "Epoch 00007: val_accuracy did not improve from 0.62500\n",
            "2/2 [==============================] - 0s 31ms/step - loss: 66.1118 - accuracy: 0.5167 - val_loss: 19.3888 - val_accuracy: 0.6250\n",
            "Epoch 8/40\n",
            "1/2 [==============>...............] - ETA: 0s - loss: 59.8758 - accuracy: 0.5350\n",
            "Epoch 00008: val_accuracy did not improve from 0.62500\n",
            "2/2 [==============================] - 0s 25ms/step - loss: 57.3334 - accuracy: 0.5417 - val_loss: 21.7575 - val_accuracy: 0.6250\n",
            "Epoch 9/40\n",
            "1/2 [==============>...............] - ETA: 0s - loss: 61.2006 - accuracy: 0.5450\n",
            "Epoch 00009: val_accuracy did not improve from 0.62500\n",
            "2/2 [==============================] - 0s 30ms/step - loss: 58.7340 - accuracy: 0.5667 - val_loss: 23.9714 - val_accuracy: 0.6250\n",
            "Epoch 10/40\n",
            "1/2 [==============>...............] - ETA: 0s - loss: 60.6940 - accuracy: 0.5250\n",
            "Epoch 00010: val_accuracy did not improve from 0.62500\n",
            "2/2 [==============================] - 0s 26ms/step - loss: 57.9932 - accuracy: 0.5250 - val_loss: 25.9630 - val_accuracy: 0.6250\n",
            "Epoch 11/40\n",
            "1/2 [==============>...............] - ETA: 0s - loss: 53.7060 - accuracy: 0.5850\n",
            "Epoch 00011: val_accuracy did not improve from 0.62500\n",
            "2/2 [==============================] - 0s 30ms/step - loss: 53.1143 - accuracy: 0.5875 - val_loss: 27.5514 - val_accuracy: 0.6250\n",
            "Epoch 12/40\n",
            "1/2 [==============>...............] - ETA: 0s - loss: 55.9263 - accuracy: 0.5750\n",
            "Epoch 00012: val_accuracy did not improve from 0.62500\n",
            "2/2 [==============================] - 0s 25ms/step - loss: 52.8344 - accuracy: 0.5958 - val_loss: 28.7074 - val_accuracy: 0.6250\n",
            "Epoch 13/40\n",
            "1/2 [==============>...............] - ETA: 0s - loss: 55.8895 - accuracy: 0.5550\n",
            "Epoch 00013: val_accuracy did not improve from 0.62500\n",
            "2/2 [==============================] - 0s 26ms/step - loss: 53.3866 - accuracy: 0.5667 - val_loss: 29.6159 - val_accuracy: 0.6250\n",
            "Epoch 14/40\n",
            "1/2 [==============>...............] - ETA: 0s - loss: 55.2229 - accuracy: 0.5500\n",
            "Epoch 00014: val_accuracy did not improve from 0.62500\n",
            "2/2 [==============================] - 0s 33ms/step - loss: 53.5999 - accuracy: 0.5667 - val_loss: 30.3472 - val_accuracy: 0.6250\n",
            "Epoch 15/40\n",
            "1/2 [==============>...............] - ETA: 0s - loss: 57.4555 - accuracy: 0.5800\n",
            "Epoch 00015: val_accuracy did not improve from 0.62500\n",
            "2/2 [==============================] - 0s 26ms/step - loss: 56.8081 - accuracy: 0.5875 - val_loss: 30.8379 - val_accuracy: 0.6250\n",
            "Epoch 16/40\n",
            "1/2 [==============>...............] - ETA: 0s - loss: 49.0295 - accuracy: 0.5800\n",
            "Epoch 00016: val_accuracy did not improve from 0.62500\n",
            "2/2 [==============================] - 0s 27ms/step - loss: 46.5936 - accuracy: 0.5958 - val_loss: 31.1826 - val_accuracy: 0.6250\n",
            "Epoch 17/40\n",
            "1/2 [==============>...............] - ETA: 0s - loss: 52.1435 - accuracy: 0.5950\n",
            "Epoch 00017: val_accuracy did not improve from 0.62500\n",
            "2/2 [==============================] - 0s 22ms/step - loss: 51.2660 - accuracy: 0.6125 - val_loss: 31.2014 - val_accuracy: 0.6250\n",
            "Epoch 18/40\n",
            "1/2 [==============>...............] - ETA: 0s - loss: 49.8996 - accuracy: 0.6050\n",
            "Epoch 00018: val_accuracy did not improve from 0.62500\n",
            "2/2 [==============================] - 0s 29ms/step - loss: 52.4035 - accuracy: 0.6083 - val_loss: 30.9511 - val_accuracy: 0.6250\n",
            "Epoch 19/40\n",
            "1/2 [==============>...............] - ETA: 0s - loss: 49.0962 - accuracy: 0.6100\n",
            "Epoch 00019: val_accuracy did not improve from 0.62500\n",
            "2/2 [==============================] - 0s 25ms/step - loss: 49.2922 - accuracy: 0.6208 - val_loss: 30.6494 - val_accuracy: 0.6250\n",
            "Epoch 20/40\n",
            "1/2 [==============>...............] - ETA: 0s - loss: 38.0889 - accuracy: 0.6800\n",
            "Epoch 00020: val_accuracy did not improve from 0.62500\n",
            "2/2 [==============================] - 0s 25ms/step - loss: 37.6846 - accuracy: 0.6625 - val_loss: 30.1078 - val_accuracy: 0.6250\n",
            "Epoch 21/40\n",
            "1/2 [==============>...............] - ETA: 0s - loss: 50.3431 - accuracy: 0.5800\n",
            "Epoch 00021: val_accuracy did not improve from 0.62500\n",
            "2/2 [==============================] - 0s 27ms/step - loss: 48.9206 - accuracy: 0.5917 - val_loss: 29.5270 - val_accuracy: 0.6250\n",
            "Epoch 22/40\n",
            "1/2 [==============>...............] - ETA: 0s - loss: 32.6377 - accuracy: 0.6700\n",
            "Epoch 00022: val_accuracy did not improve from 0.62500\n",
            "2/2 [==============================] - 0s 28ms/step - loss: 33.4298 - accuracy: 0.6708 - val_loss: 28.9849 - val_accuracy: 0.6250\n",
            "Epoch 23/40\n",
            "1/2 [==============>...............] - ETA: 0s - loss: 34.9517 - accuracy: 0.6450\n",
            "Epoch 00023: val_accuracy did not improve from 0.62500\n",
            "2/2 [==============================] - 0s 30ms/step - loss: 35.4099 - accuracy: 0.6250 - val_loss: 28.4142 - val_accuracy: 0.6250\n",
            "Epoch 24/40\n",
            "1/2 [==============>...............] - ETA: 0s - loss: 36.9727 - accuracy: 0.6450\n",
            "Epoch 00024: val_accuracy did not improve from 0.62500\n",
            "2/2 [==============================] - 0s 23ms/step - loss: 37.8095 - accuracy: 0.6375 - val_loss: 27.6054 - val_accuracy: 0.6250\n",
            "Epoch 25/40\n",
            "1/2 [==============>...............] - ETA: 0s - loss: 34.2728 - accuracy: 0.6000\n",
            "Epoch 00025: val_accuracy did not improve from 0.62500\n",
            "2/2 [==============================] - 0s 27ms/step - loss: 35.2690 - accuracy: 0.6167 - val_loss: 26.7077 - val_accuracy: 0.6250\n",
            "Epoch 26/40\n",
            "1/2 [==============>...............] - ETA: 0s - loss: 43.8390 - accuracy: 0.6000\n",
            "Epoch 00026: val_accuracy did not improve from 0.62500\n",
            "2/2 [==============================] - 0s 23ms/step - loss: 42.4671 - accuracy: 0.5958 - val_loss: 25.7572 - val_accuracy: 0.6250\n",
            "Epoch 27/40\n",
            "1/2 [==============>...............] - ETA: 0s - loss: 44.0264 - accuracy: 0.6050\n",
            "Epoch 00027: val_accuracy did not improve from 0.62500\n",
            "2/2 [==============================] - 0s 35ms/step - loss: 43.1397 - accuracy: 0.6208 - val_loss: 24.7374 - val_accuracy: 0.6250\n",
            "Epoch 28/40\n",
            "1/2 [==============>...............] - ETA: 0s - loss: 28.8407 - accuracy: 0.6500\n",
            "Epoch 00028: val_accuracy did not improve from 0.62500\n",
            "2/2 [==============================] - 0s 26ms/step - loss: 30.4513 - accuracy: 0.6458 - val_loss: 23.6876 - val_accuracy: 0.6250\n",
            "Epoch 29/40\n",
            "1/2 [==============>...............] - ETA: 0s - loss: 39.2463 - accuracy: 0.6200\n",
            "Epoch 00029: val_accuracy did not improve from 0.62500\n",
            "2/2 [==============================] - 0s 24ms/step - loss: 37.6533 - accuracy: 0.6375 - val_loss: 22.7139 - val_accuracy: 0.6250\n",
            "Epoch 30/40\n",
            "1/2 [==============>...............] - ETA: 0s - loss: 37.9377 - accuracy: 0.5850\n",
            "Epoch 00030: val_accuracy did not improve from 0.62500\n",
            "2/2 [==============================] - 0s 23ms/step - loss: 38.2181 - accuracy: 0.5875 - val_loss: 21.6559 - val_accuracy: 0.6250\n",
            "Epoch 31/40\n",
            "1/2 [==============>...............] - ETA: 0s - loss: 28.0627 - accuracy: 0.6350\n",
            "Epoch 00031: val_accuracy did not improve from 0.62500\n",
            "2/2 [==============================] - 0s 47ms/step - loss: 28.1684 - accuracy: 0.6333 - val_loss: 20.5542 - val_accuracy: 0.6250\n",
            "Epoch 32/40\n",
            "1/2 [==============>...............] - ETA: 0s - loss: 29.1459 - accuracy: 0.6200\n",
            "Epoch 00032: val_accuracy did not improve from 0.62500\n",
            "2/2 [==============================] - 0s 28ms/step - loss: 29.6198 - accuracy: 0.6167 - val_loss: 19.5791 - val_accuracy: 0.6250\n",
            "Epoch 33/40\n",
            "1/2 [==============>...............] - ETA: 0s - loss: 33.0832 - accuracy: 0.5650\n",
            "Epoch 00033: val_accuracy did not improve from 0.62500\n",
            "2/2 [==============================] - 0s 29ms/step - loss: 34.1767 - accuracy: 0.5500 - val_loss: 18.8216 - val_accuracy: 0.6250\n",
            "Epoch 34/40\n",
            "1/2 [==============>...............] - ETA: 0s - loss: 34.3538 - accuracy: 0.5850\n",
            "Epoch 00034: val_accuracy did not improve from 0.62500\n",
            "2/2 [==============================] - 0s 23ms/step - loss: 32.8061 - accuracy: 0.5875 - val_loss: 18.3097 - val_accuracy: 0.6250\n",
            "Epoch 35/40\n",
            "1/2 [==============>...............] - ETA: 0s - loss: 32.7343 - accuracy: 0.5900\n",
            "Epoch 00035: val_accuracy did not improve from 0.62500\n",
            "2/2 [==============================] - 0s 31ms/step - loss: 33.8756 - accuracy: 0.5833 - val_loss: 17.8109 - val_accuracy: 0.6250\n",
            "Epoch 36/40\n",
            "1/2 [==============>...............] - ETA: 0s - loss: 29.9672 - accuracy: 0.5950\n",
            "Epoch 00036: val_accuracy did not improve from 0.62500\n",
            "2/2 [==============================] - 0s 27ms/step - loss: 28.0117 - accuracy: 0.6000 - val_loss: 17.5359 - val_accuracy: 0.6250\n",
            "Epoch 37/40\n",
            "1/2 [==============>...............] - ETA: 0s - loss: 26.3267 - accuracy: 0.6200\n",
            "Epoch 00037: val_accuracy did not improve from 0.62500\n",
            "2/2 [==============================] - 0s 25ms/step - loss: 25.2404 - accuracy: 0.6250 - val_loss: 17.3009 - val_accuracy: 0.6250\n",
            "Epoch 38/40\n",
            "1/2 [==============>...............] - ETA: 0s - loss: 24.7485 - accuracy: 0.5900\n",
            "Epoch 00038: val_accuracy did not improve from 0.62500\n",
            "2/2 [==============================] - 0s 26ms/step - loss: 25.0513 - accuracy: 0.5792 - val_loss: 17.1044 - val_accuracy: 0.6250\n",
            "Epoch 39/40\n",
            "1/2 [==============>...............] - ETA: 0s - loss: 28.1562 - accuracy: 0.5750\n",
            "Epoch 00039: val_accuracy did not improve from 0.62500\n",
            "2/2 [==============================] - 0s 27ms/step - loss: 27.6104 - accuracy: 0.5750 - val_loss: 17.0388 - val_accuracy: 0.6250\n",
            "Epoch 40/40\n",
            "1/2 [==============>...............] - ETA: 0s - loss: 25.8618 - accuracy: 0.6200\n",
            "Epoch 00040: val_accuracy did not improve from 0.62500\n",
            "2/2 [==============================] - 0s 25ms/step - loss: 26.3061 - accuracy: 0.6167 - val_loss: 17.0557 - val_accuracy: 0.6250\n"
          ]
        }
      ]
    },
    {
      "cell_type": "markdown",
      "metadata": {
        "id": "ka8hL0SWnqR-"
      },
      "source": [
        "# 4. 평가"
      ]
    },
    {
      "cell_type": "markdown",
      "metadata": {
        "id": "zlXpV9L3ydf8"
      },
      "source": [
        "모델 학습이 종료되면 평가를 한다. 모델이 잘 훈련되었는지 알아보기 위해 evaulate()를 사용한다. 손실값은 약 7.73, 모델의 정확도는 83.74%로 성능이 매우 좋다고 할 수 없지만 꽤 괜찮은 모델이라고 할 수 있겠다."
      ]
    },
    {
      "cell_type": "code",
      "metadata": {
        "colab": {
          "base_uri": "https://localhost:8080/"
        },
        "id": "wwemlLzmAFQ8",
        "outputId": "dc2b86df-faf9-4dc2-b549-71b5c7380f08"
      },
      "source": [
        "loss, accuracy = model.evaluate(x_test,  y_test, verbose=2)\n",
        "print(\"Loss: \", loss)\n",
        "print(\"Accuracy: \", accuracy)"
      ],
      "execution_count": null,
      "outputs": [
        {
          "output_type": "stream",
          "name": "stdout",
          "text": [
            "3/3 - 0s - loss: 7.7317 - accuracy: 0.8375 - 20ms/epoch - 7ms/step\n",
            "Loss:  7.731680393218994\n",
            "Accuracy:  0.8374999761581421\n"
          ]
        }
      ]
    },
    {
      "cell_type": "markdown",
      "metadata": {
        "id": "IoSLCJ0J1lMb"
      },
      "source": [
        "함수의 반환값으로 얻은 history객체로 이 history객체에는 loss, accuracy, val_loss, val_accuracy의 정보가 있다."
      ]
    },
    {
      "cell_type": "code",
      "metadata": {
        "colab": {
          "base_uri": "https://localhost:8080/"
        },
        "id": "mTZ-MULCAKhI",
        "outputId": "9cce724b-d5cc-42ef-e37d-68b90269ad84"
      },
      "source": [
        "history_dict = history.history\n",
        "history_dict.keys()"
      ],
      "execution_count": null,
      "outputs": [
        {
          "output_type": "execute_result",
          "data": {
            "text/plain": [
              "dict_keys(['loss', 'accuracy', 'val_loss', 'val_accuracy'])"
            ]
          },
          "metadata": {},
          "execution_count": 27
        }
      ]
    },
    {
      "cell_type": "markdown",
      "metadata": {
        "id": "BfzTtz_v1vxP"
      },
      "source": [
        "에폭이 진행될 때 loss값을 시각화하니 에폭이 진행될수록 손실값이 감소하는 모습을 볼 수 있었고 학습이 잘 진행되었다는 의미로 볼 수 있다."
      ]
    },
    {
      "cell_type": "code",
      "metadata": {
        "colab": {
          "base_uri": "https://localhost:8080/",
          "height": 295
        },
        "id": "jQeSH63oAMzC",
        "outputId": "21913650-faa2-4d21-b910-c7eeea68e4de"
      },
      "source": [
        "acc = history_dict['accuracy']\n",
        "val_acc = history_dict['val_accuracy']\n",
        "loss = history_dict['loss']\n",
        "val_loss = history_dict['val_loss']\n",
        "\n",
        "epochs = range(1, len(acc) + 1)\n",
        "\n",
        "plt.plot(epochs, loss, 'bo', label='Training loss')\n",
        "\n",
        "plt.plot(epochs, val_loss, 'b', label='Validation loss')\n",
        "plt.title('Training and validation loss')\n",
        "plt.xlabel('Epochs')\n",
        "plt.ylabel('Loss')\n",
        "plt.legend()\n",
        "\n",
        "plt.show()"
      ],
      "execution_count": null,
      "outputs": [
        {
          "output_type": "display_data",
          "data": {
            "image/png": "[encoded data removed]",
            "text/plain": [
              "<Figure size 432x288 with 1 Axes>"
            ]
          },
          "metadata": {
            "needs_background": "light"
          }
        }
      ]
    },
    {
      "cell_type": "markdown",
      "metadata": {
        "id": "37FSU3e32lAE"
      },
      "source": [
        "loss값에 이어 정확도의 변화를 확인해보니 정확도는 에폭이 진행되면서 증가하다가 어느 시점에서 감소하는 것을 볼 수 있다. 모델의 개선이 필요하다고 생각한다."
      ]
    },
    {
      "cell_type": "code",
      "metadata": {
        "colab": {
          "base_uri": "https://localhost:8080/",
          "height": 295
        },
        "id": "TXnMNnJGARmi",
        "outputId": "2683f892-e670-4c6b-be65-b75664a1db1b"
      },
      "source": [
        "plt.plot(epochs, acc, 'bo', label='Training acc')\n",
        "plt.plot(epochs, val_acc, 'b', label='Validation acc')\n",
        "plt.title('Training and validation accuracy')\n",
        "plt.xlabel('Epochs')\n",
        "plt.ylabel('Accuracy')\n",
        "plt.legend(loc='lower right')\n",
        "\n",
        "plt.show()"
      ],
      "execution_count": null,
      "outputs": [
        {
          "output_type": "display_data",
          "data": {
            "image/png": "[encoded data removed]",
            "text/plain": [
              "<Figure size 432x288 with 1 Axes>"
            ]
          },
          "metadata": {
            "needs_background": "light"
          }
        }
      ]
    },
    {
      "cell_type": "markdown",
      "metadata": {
        "id": "FIkUlRMCnuSI"
      },
      "source": [
        "# 5. 배포"
      ]
    },
    {
      "cell_type": "markdown",
      "metadata": {
        "id": "24UPCSGH3Ieu"
      },
      "source": [
        "학습시킨 모델에 새로운 데이터를 넣어봤더니 다음과 같이 예측하였다. 이 모델은 다음의 데이터를 입력했을 때 y값을 0으로 예측하였다."
      ]
    },
    {
      "cell_type": "code",
      "metadata": {
        "id": "PFAPchPLAW9D"
      },
      "source": [
        "new_x = [(1, 1), (2, 10), (3, 100), (4, 1000), (5, 10000)]"
      ],
      "execution_count": null,
      "outputs": []
    },
    {
      "cell_type": "code",
      "metadata": {
        "colab": {
          "base_uri": "https://localhost:8080/"
        },
        "id": "W_nHW56cAdJK",
        "outputId": "5b08a669-07d3-42b8-f926-134983a6a5b7"
      },
      "source": [
        "model.load_weights('model.hdf5')\n",
        "\n",
        "y_pred = model.predict(new_x)\n",
        "print(np.round(y_pred).astype(int))"
      ],
      "execution_count": null,
      "outputs": [
        {
          "output_type": "stream",
          "name": "stdout",
          "text": [
            "[[0]\n",
            " [0]\n",
            " [0]\n",
            " [0]\n",
            " [0]]\n"
          ]
        }
      ]
    },
    {
      "cell_type": "markdown",
      "metadata": {
        "id": "KiIBeF-K7eCd"
      },
      "source": [
        "**모델 정확도 향상을 위한 노력**"
      ]
    },
    {
      "cell_type": "markdown",
      "metadata": {
        "id": "MW6xxd6o38dL"
      },
      "source": [
        "우리가 모델을 만드는 과정에서는 모델의 성능을 알 수 없다. 모델을 모두 만들고 확인해보니 생각보다 정확도가 낮게 나오는 경우도 더러 있다. 그렇다면 모델의 정확도를 높이기 위해 어떤 방법이 있을지 고민해봐야 한다. 보통 데이터의 전처리가 필요할 때는 모든 데이터의 전처리 과정에서 있지 않은지 확인이 필요하고, 모델을 만들면서 우리가 정하는 여러가지 함수나 수가 있다. 최적화 함수나 에폭수, 배치 사이즈, random_state를 의미한다. 어떤 값이 가장 높은 정확도를 도출시키는지 모르기 때문에 고민이 깊어진다.\n",
        "\n",
        "그래서 최적의 조합을 찾을 수 있는 그리드 서치 방식이나 랜덤 서치 방식이 제공된다고 한다. 하지만 계산해야 하는 파라미터가 많아지면 그만큼 시간이 길어지는 단점도 있다. 이런 고민을 해결하기 위해 사람 대신 기계가 최적의 파라미터를 조합해 높은 성능을 낼 수 있도록 오토 ML(자동화 기계학습)이 개발되었다고 한다.\n",
        "\n",
        "* 출처 : https://magazine.hankyung.com/business/article/202101061704b"
      ]
    }
  ]
}